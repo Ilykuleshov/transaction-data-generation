{
 "cells": [
  {
   "cell_type": "code",
   "execution_count": 1,
   "metadata": {},
   "outputs": [],
   "source": [
    "import os\n",
    "os.chdir(\"/app/\")"
   ]
  },
  {
   "cell_type": "code",
   "execution_count": 2,
   "metadata": {},
   "outputs": [],
   "source": [
    "import pytorch_lightning\n",
    "from pathlib import Path\n",
    "from yaml import safe_load as load_yaml\n",
    "from omegaconf import DictConfig\n",
    "import torch\n",
    "from hydra.utils import instantiate\n",
    "import pandas as pd\n",
    "from ptls.frames import PtlsDataModule\n",
    "from torch.utils.data import DataLoader\n",
    "from torcheval.metrics.functional import multiclass_f1_score\n",
    "from scipy.optimize import minimize_scalar\n",
    "from ptls.data_load.datasets.memory_dataset import MemoryMapDataset\n",
    "from ptls.data_load.iterable_processing import SeqLenFilter\n",
    "from ptls.data_load import PaddedBatch\n",
    "from ptls.data_load.utils import collate_feature_dict\n",
    "from src.preprocessing.churn_preproc import preprocessing\n",
    "from src.datamodules.autoencoder import MyColesDataset\n",
    "from src.networks.decoders import LSTMCellDecoder\n",
    "from src.networks.modules import VanillaAE"
   ]
  },
  {
   "cell_type": "code",
   "execution_count": 3,
   "metadata": {},
   "outputs": [
    {
     "data": {
      "text/plain": [
       "<All keys matched successfully>"
      ]
     },
     "execution_count": 3,
     "metadata": {},
     "output_type": "execute_result"
    }
   ],
   "source": [
    "ckpt_path = next(\n",
    "    Path(\"transaction_data_generation/3iqys3po/checkpoints/\").glob(\"*.ckpt\")\n",
    ")\n",
    "\n",
    "with open(\"wandb/run-20230925_093441-3iqys3po/files/config.yaml\", \"r\") as f:\n",
    "    cfg = DictConfig(load_yaml(f.read()))\n",
    "\n",
    "encoder = instantiate(cfg[\"encoder\"][\"value\"])\n",
    "decoder = instantiate(cfg[\"decoder\"][\"value\"])\n",
    "\n",
    "mcc_column: str = cfg[\"dataset\"][\"value\"][\"mcc_column\"]\n",
    "amt_column: str = cfg[\"dataset\"][\"value\"][\"amt_column\"]\n",
    "\n",
    "dataset = MemoryMapDataset(\n",
    "    preprocessing(cfg[\"dataset\"][\"value\"]),\n",
    "    [SeqLenFilter(20, 40)]\n",
    ")\n",
    "\n",
    "module: VanillaAE = instantiate(cfg[\"module\"][\"value\"], _recursive_=False)(\n",
    "    encoder=encoder,\n",
    "    decoder=decoder,\n",
    "    amnt_col=amt_column,\n",
    "    mcc_col=mcc_column,\n",
    ")\n",
    "\n",
    "module.load_state_dict(torch.load(ckpt_path)[\"state_dict\"])"
   ]
  },
  {
   "cell_type": "code",
   "execution_count": 4,
   "metadata": {},
   "outputs": [
    {
     "name": "stderr",
     "output_type": "stream",
     "text": [
      "GPU available: True (cuda), used: True\n",
      "TPU available: False, using: 0 TPU cores\n",
      "IPU available: False, using: 0 IPUs\n",
      "HPU available: False, using: 0 HPUs\n",
      "LOCAL_RANK: 0 - CUDA_VISIBLE_DEVICES: [0]\n",
      "/home/i.kuleshov/miniconda/lib/python3.9/site-packages/pytorch_lightning/trainer/connectors/data_connector.py:442: PossibleUserWarning: The dataloader, predict_dataloader, does not have many workers which may be a bottleneck. Consider increasing the value of the `num_workers` argument` (try 40 which is the number of cpus on this machine) in the `DataLoader` init to improve performance.\n",
      "  rank_zero_warn(\n"
     ]
    },
    {
     "data": {
      "application/vnd.jupyter.widget-view+json": {
       "model_id": "099ec3ef9f00435ba9fb02e2d9481381",
       "version_major": 2,
       "version_minor": 0
      },
      "text/plain": [
       "Predicting: 0it [00:00, ?it/s]"
      ]
     },
     "metadata": {},
     "output_type": "display_data"
    }
   ],
   "source": [
    "trainer = pytorch_lightning.Trainer(accelerator=\"gpu\", devices=1)\n",
    "preds = trainer.predict(module, dataloaders=DataLoader(\n",
    "    dataset,\n",
    "    collate_fn=collate_feature_dict,\n",
    "    batch_size=1\n",
    "))"
   ]
  },
  {
   "cell_type": "code",
   "execution_count": 5,
   "metadata": {},
   "outputs": [],
   "source": [
    "pred_mccs = torch.concat([row[0][0] for row in preds])\n",
    "orig_mccs = torch.concat([row[\"mcc_code\"] for row in dataset])"
   ]
  },
  {
   "cell_type": "code",
   "execution_count": 9,
   "metadata": {},
   "outputs": [
    {
     "data": {
      "text/plain": [
       "tensor(0.3594)"
      ]
     },
     "execution_count": 9,
     "metadata": {},
     "output_type": "execute_result"
    }
   ],
   "source": [
    "\n",
    "multiclass_f1_score(\n",
    "    pred_mccs[:, 1:].argmax(1),\n",
    "    orig_mccs - 1,\n",
    "    num_classes=344,\n",
    "    average=\"micro\"\n",
    ")"
   ]
  }
 ],
 "metadata": {
  "kernelspec": {
   "display_name": "base",
   "language": "python",
   "name": "python3"
  },
  "language_info": {
   "codemirror_mode": {
    "name": "ipython",
    "version": 3
   },
   "file_extension": ".py",
   "mimetype": "text/x-python",
   "name": "python",
   "nbconvert_exporter": "python",
   "pygments_lexer": "ipython3",
   "version": "3.9.16"
  },
  "orig_nbformat": 4
 },
 "nbformat": 4,
 "nbformat_minor": 2
}
