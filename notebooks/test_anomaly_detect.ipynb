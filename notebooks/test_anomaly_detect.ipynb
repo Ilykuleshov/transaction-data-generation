{
 "cells": [
  {
   "cell_type": "code",
   "execution_count": 1,
   "metadata": {},
   "outputs": [],
   "source": [
    "import os, sys\n",
    "dir2 = os.path.abspath('')\n",
    "dir1 = os.path.dirname(dir2)\n",
    "if not dir1 in sys.path: sys.path.append(dir1)"
   ]
  },
  {
   "cell_type": "code",
   "execution_count": 2,
   "metadata": {},
   "outputs": [],
   "source": [
    "os.chdir('..')"
   ]
  },
  {
   "cell_type": "code",
   "execution_count": 3,
   "metadata": {},
   "outputs": [],
   "source": [
    "import pickle\n",
    "\n",
    "from hydra import compose, initialize\n",
    "from omegaconf import OmegaConf\n",
    "\n",
    "import numpy as np\n",
    "import pandas as pd\n",
    "\n",
    "import matplotlib.pyplot as plt\n",
    "import seaborn as sns\n",
    "\n",
    "import torch\n",
    "\n",
    "from tqdm.notebook import tqdm\n",
    "\n",
    "from src.preprocessing.new_data_preprop import preprocessing\n",
    "from src.datamodules.autoencoder import AEDataModule\n",
    "from src.networks.lstm import LSTMAE\n",
    "\n",
    "%load_ext autoreload\n",
    "%autoreload 2"
   ]
  },
  {
   "cell_type": "code",
   "execution_count": 26,
   "metadata": {},
   "outputs": [],
   "source": [
    "BEST_MODEL_PATH = 'logs/lstm/checkpoints/lstm__embed_dim128_num_layers_1_user_embed_32_masked_pred_0.2-v2.ckpt'"
   ]
  },
  {
   "cell_type": "code",
   "execution_count": 5,
   "metadata": {},
   "outputs": [],
   "source": [
    "with initialize(config_path='../config', version_base=None):\n",
    "    cfg = compose(config_name='config')\n",
    "cfg_preprop = cfg['dataset']\n",
    "cfg_model = cfg['autoencoder']"
   ]
  },
  {
   "cell_type": "code",
   "execution_count": 173,
   "metadata": {},
   "outputs": [],
   "source": [
    "seq_data, data_srt = preprocessing(cfg_preprop, return_preproc=True)"
   ]
  },
  {
   "cell_type": "code",
   "execution_count": 175,
   "metadata": {},
   "outputs": [],
   "source": [
    "data_srt['count_temp'] = data_srt.groupby('sample_label')['sample_label'].count()"
   ]
  },
  {
   "cell_type": "code",
   "execution_count": 180,
   "metadata": {},
   "outputs": [
    {
     "data": {
      "text/html": [
       "<div>\n",
       "<style scoped>\n",
       "    .dataframe tbody tr th:only-of-type {\n",
       "        vertical-align: middle;\n",
       "    }\n",
       "\n",
       "    .dataframe tbody tr th {\n",
       "        vertical-align: top;\n",
       "    }\n",
       "\n",
       "    .dataframe thead th {\n",
       "        text-align: right;\n",
       "    }\n",
       "</style>\n",
       "<table border=\"1\" class=\"dataframe\">\n",
       "  <thead>\n",
       "    <tr style=\"text-align: right;\">\n",
       "      <th></th>\n",
       "      <th>user_id</th>\n",
       "      <th>mcc_code</th>\n",
       "      <th>transaction_amt</th>\n",
       "      <th>transaction_dttm</th>\n",
       "      <th>is_income</th>\n",
       "      <th>sample_label</th>\n",
       "      <th>target</th>\n",
       "      <th>count_temp</th>\n",
       "    </tr>\n",
       "  </thead>\n",
       "  <tbody>\n",
       "    <tr>\n",
       "      <th>40</th>\n",
       "      <td>1</td>\n",
       "      <td>1</td>\n",
       "      <td>6.026347</td>\n",
       "      <td>2020-09-20 08:43:05</td>\n",
       "      <td>0</td>\n",
       "      <td>1</td>\n",
       "      <td>0.0</td>\n",
       "      <td>40.0</td>\n",
       "    </tr>\n",
       "    <tr>\n",
       "      <th>50</th>\n",
       "      <td>1</td>\n",
       "      <td>15</td>\n",
       "      <td>4.990066</td>\n",
       "      <td>2020-09-25 04:04:25</td>\n",
       "      <td>0</td>\n",
       "      <td>1</td>\n",
       "      <td>0.0</td>\n",
       "      <td>40.0</td>\n",
       "    </tr>\n",
       "    <tr>\n",
       "      <th>103</th>\n",
       "      <td>1</td>\n",
       "      <td>20</td>\n",
       "      <td>6.025567</td>\n",
       "      <td>2020-10-24 23:45:34</td>\n",
       "      <td>0</td>\n",
       "      <td>2</td>\n",
       "      <td>0.0</td>\n",
       "      <td>40.0</td>\n",
       "    </tr>\n",
       "    <tr>\n",
       "      <th>128</th>\n",
       "      <td>1</td>\n",
       "      <td>1</td>\n",
       "      <td>3.342567</td>\n",
       "      <td>2020-11-10 00:25:07</td>\n",
       "      <td>0</td>\n",
       "      <td>3</td>\n",
       "      <td>0.0</td>\n",
       "      <td>41.0</td>\n",
       "    </tr>\n",
       "    <tr>\n",
       "      <th>138</th>\n",
       "      <td>1</td>\n",
       "      <td>1</td>\n",
       "      <td>6.407349</td>\n",
       "      <td>2020-11-26 02:16:14</td>\n",
       "      <td>0</td>\n",
       "      <td>3</td>\n",
       "      <td>0.0</td>\n",
       "      <td>41.0</td>\n",
       "    </tr>\n",
       "    <tr>\n",
       "      <th>...</th>\n",
       "      <td>...</td>\n",
       "      <td>...</td>\n",
       "      <td>...</td>\n",
       "      <td>...</td>\n",
       "      <td>...</td>\n",
       "      <td>...</td>\n",
       "      <td>...</td>\n",
       "      <td>...</td>\n",
       "    </tr>\n",
       "    <tr>\n",
       "      <th>19160987</th>\n",
       "      <td>22533</td>\n",
       "      <td>1</td>\n",
       "      <td>3.706910</td>\n",
       "      <td>2021-07-31 05:33:03</td>\n",
       "      <td>0</td>\n",
       "      <td>481243</td>\n",
       "      <td>0.0</td>\n",
       "      <td>NaN</td>\n",
       "    </tr>\n",
       "    <tr>\n",
       "      <th>19160988</th>\n",
       "      <td>22533</td>\n",
       "      <td>1</td>\n",
       "      <td>5.625801</td>\n",
       "      <td>2021-07-31 08:57:02</td>\n",
       "      <td>0</td>\n",
       "      <td>481243</td>\n",
       "      <td>0.0</td>\n",
       "      <td>NaN</td>\n",
       "    </tr>\n",
       "    <tr>\n",
       "      <th>19160989</th>\n",
       "      <td>22533</td>\n",
       "      <td>1</td>\n",
       "      <td>4.927959</td>\n",
       "      <td>2021-07-31 08:59:33</td>\n",
       "      <td>0</td>\n",
       "      <td>481243</td>\n",
       "      <td>0.0</td>\n",
       "      <td>NaN</td>\n",
       "    </tr>\n",
       "    <tr>\n",
       "      <th>19160990</th>\n",
       "      <td>22533</td>\n",
       "      <td>11</td>\n",
       "      <td>4.454891</td>\n",
       "      <td>2021-08-01 23:04:41</td>\n",
       "      <td>0</td>\n",
       "      <td>481243</td>\n",
       "      <td>0.0</td>\n",
       "      <td>NaN</td>\n",
       "    </tr>\n",
       "    <tr>\n",
       "      <th>19160991</th>\n",
       "      <td>22533</td>\n",
       "      <td>83</td>\n",
       "      <td>8.489627</td>\n",
       "      <td>2021-08-02 09:20:43</td>\n",
       "      <td>0</td>\n",
       "      <td>481243</td>\n",
       "      <td>0.0</td>\n",
       "      <td>NaN</td>\n",
       "    </tr>\n",
       "  </tbody>\n",
       "</table>\n",
       "<p>19128481 rows × 8 columns</p>\n",
       "</div>"
      ],
      "text/plain": [
       "          user_id  mcc_code  transaction_amt    transaction_dttm  is_income   \n",
       "40              1         1         6.026347 2020-09-20 08:43:05          0  \\\n",
       "50              1        15         4.990066 2020-09-25 04:04:25          0   \n",
       "103             1        20         6.025567 2020-10-24 23:45:34          0   \n",
       "128             1         1         3.342567 2020-11-10 00:25:07          0   \n",
       "138             1         1         6.407349 2020-11-26 02:16:14          0   \n",
       "...           ...       ...              ...                 ...        ...   \n",
       "19160987    22533         1         3.706910 2021-07-31 05:33:03          0   \n",
       "19160988    22533         1         5.625801 2021-07-31 08:57:02          0   \n",
       "19160989    22533         1         4.927959 2021-07-31 08:59:33          0   \n",
       "19160990    22533        11         4.454891 2021-08-01 23:04:41          0   \n",
       "19160991    22533        83         8.489627 2021-08-02 09:20:43          0   \n",
       "\n",
       "          sample_label  target  count_temp  \n",
       "40                   1     0.0        40.0  \n",
       "50                   1     0.0        40.0  \n",
       "103                  2     0.0        40.0  \n",
       "128                  3     0.0        41.0  \n",
       "138                  3     0.0        41.0  \n",
       "...                ...     ...         ...  \n",
       "19160987        481243     0.0         NaN  \n",
       "19160988        481243     0.0         NaN  \n",
       "19160989        481243     0.0         NaN  \n",
       "19160990        481243     0.0         NaN  \n",
       "19160991        481243     0.0         NaN  \n",
       "\n",
       "[19128481 rows x 8 columns]"
      ]
     },
     "execution_count": 180,
     "metadata": {},
     "output_type": "execute_result"
    }
   ],
   "source": [
    "data_srt.drop(\n",
    "        index=data_srt[(data_srt['count_temp'] < 40) | (data_srt['count_temp'] > 120)].index,\n",
    "        axis=0\n",
    "    )"
   ]
  },
  {
   "cell_type": "code",
   "execution_count": 177,
   "metadata": {},
   "outputs": [
    {
     "data": {
      "text/plain": [
       "Index([    0,     1,     2,     3,     4,     5,     6,     7,     8,     9,\n",
       "       ...\n",
       "       12059, 12060, 12061, 12062, 12063, 12064, 12065, 12066, 12067, 12068],\n",
       "      dtype='int64', length=10523)"
      ]
     },
     "execution_count": 177,
     "metadata": {},
     "output_type": "execute_result"
    }
   ],
   "source": [
    "data_srt[(data_srt['count_temp'] < 40) | (data_srt['count_temp'] > 120)].index"
   ]
  },
  {
   "cell_type": "code",
   "execution_count": 172,
   "metadata": {},
   "outputs": [
    {
     "data": {
      "text/html": [
       "<div>\n",
       "<style scoped>\n",
       "    .dataframe tbody tr th:only-of-type {\n",
       "        vertical-align: middle;\n",
       "    }\n",
       "\n",
       "    .dataframe tbody tr th {\n",
       "        vertical-align: top;\n",
       "    }\n",
       "\n",
       "    .dataframe thead th {\n",
       "        text-align: right;\n",
       "    }\n",
       "</style>\n",
       "<table border=\"1\" class=\"dataframe\">\n",
       "  <thead>\n",
       "    <tr style=\"text-align: right;\">\n",
       "      <th></th>\n",
       "      <th>user_id</th>\n",
       "      <th>mcc_code</th>\n",
       "      <th>is_income</th>\n",
       "      <th>transaction_amt</th>\n",
       "      <th>target</th>\n",
       "    </tr>\n",
       "    <tr>\n",
       "      <th>sample_label</th>\n",
       "      <th></th>\n",
       "      <th></th>\n",
       "      <th></th>\n",
       "      <th></th>\n",
       "      <th></th>\n",
       "    </tr>\n",
       "  </thead>\n",
       "  <tbody>\n",
       "    <tr>\n",
       "      <th>0</th>\n",
       "      <td>1</td>\n",
       "      <td>[1, 2, 2, 3, 1, 4, 5, 1, 4, 1, 6, 1, 2, 1, 4, ...</td>\n",
       "      <td>[0, 0, 0, 0, 0, 0, 0, 0, 0, 0, 0, 0, 0, 0, 0, ...</td>\n",
       "      <td>[5.8890782152884285, 4.922270128420835, 4.9333...</td>\n",
       "      <td>0.000000</td>\n",
       "    </tr>\n",
       "    <tr>\n",
       "      <th>1</th>\n",
       "      <td>1</td>\n",
       "      <td>[1, 12, 4, 3, 14, 2, 4, 1, 4, 2, 15, 16, 2, 1,...</td>\n",
       "      <td>[0, 0, 0, 1, 0, 0, 0, 0, 0, 0, 0, 0, 0, 0, 0, ...</td>\n",
       "      <td>[6.0263467036668334, 9.354824711478289, 4.6838...</td>\n",
       "      <td>0.025641</td>\n",
       "    </tr>\n",
       "    <tr>\n",
       "      <th>2</th>\n",
       "      <td>1</td>\n",
       "      <td>[1, 4, 11, 3, 4, 1, 4, 2, 19, 3, 4, 1, 4, 1, 4...</td>\n",
       "      <td>[0, 0, 1, 1, 0, 0, 0, 0, 0, 1, 0, 0, 0, 0, 0, ...</td>\n",
       "      <td>[5.677461633888145, 4.9405905124028475, 10.439...</td>\n",
       "      <td>0.000000</td>\n",
       "    </tr>\n",
       "    <tr>\n",
       "      <th>3</th>\n",
       "      <td>1</td>\n",
       "      <td>[4, 3, 11, 21, 21, 3, 6, 1, 20, 15, 11, 3, 4, ...</td>\n",
       "      <td>[0, 0, 0, 0, 0, 1, 0, 0, 0, 0, 0, 1, 0, 1, 0, ...</td>\n",
       "      <td>[5.095079072067337, 5.932747262978507, 7.22032...</td>\n",
       "      <td>0.000000</td>\n",
       "    </tr>\n",
       "    <tr>\n",
       "      <th>4</th>\n",
       "      <td>1</td>\n",
       "      <td>[1, 11, 15, 7, 17, 11, 15, 24, 24, 11, 2, 1, 4...</td>\n",
       "      <td>[0, 0, 0, 0, 0, 0, 0, 0, 0, 0, 0, 0, 0, 0, 0, ...</td>\n",
       "      <td>[6.487398285124865, 6.464628178284367, 6.45578...</td>\n",
       "      <td>0.026316</td>\n",
       "    </tr>\n",
       "    <tr>\n",
       "      <th>...</th>\n",
       "      <td>...</td>\n",
       "      <td>...</td>\n",
       "      <td>...</td>\n",
       "      <td>...</td>\n",
       "      <td>...</td>\n",
       "    </tr>\n",
       "    <tr>\n",
       "      <th>481239</th>\n",
       "      <td>22533</td>\n",
       "      <td>[1, 1, 1, 1, 1, 1, 1, 1, 1, 1, 1, 1, 1, 48, 1,...</td>\n",
       "      <td>[0, 0, 0, 0, 0, 0, 0, 0, 0, 0, 0, 0, 0, 0, 0, ...</td>\n",
       "      <td>[5.355194268545022, 7.228597283177507, 5.72364...</td>\n",
       "      <td>0.000000</td>\n",
       "    </tr>\n",
       "    <tr>\n",
       "      <th>481240</th>\n",
       "      <td>22533</td>\n",
       "      <td>[1, 1, 1, 1, 1, 1, 1, 1, 1, 33, 9, 1, 27, 1, 1...</td>\n",
       "      <td>[0, 0, 0, 0, 0, 0, 0, 0, 0, 0, 0, 0, 0, 0, 0, ...</td>\n",
       "      <td>[5.6642124044848625, 5.708500925239155, 5.0548...</td>\n",
       "      <td>0.000000</td>\n",
       "    </tr>\n",
       "    <tr>\n",
       "      <th>481241</th>\n",
       "      <td>22533</td>\n",
       "      <td>[11, 1, 11, 1, 1, 1, 1, 1, 1, 1, 1, 1, 1, 1, 6...</td>\n",
       "      <td>[0, 0, 0, 0, 0, 0, 0, 0, 0, 0, 0, 0, 0, 0, 0, ...</td>\n",
       "      <td>[4.420713792050053, 6.0492947505245525, 6.2712...</td>\n",
       "      <td>0.000000</td>\n",
       "    </tr>\n",
       "    <tr>\n",
       "      <th>481242</th>\n",
       "      <td>22533</td>\n",
       "      <td>[48, 1, 1, 83, 1, 1, 1, 1, 1, 1, 1, 1, 1, 1, 1...</td>\n",
       "      <td>[0, 0, 0, 0, 0, 0, 0, 0, 0, 0, 0, 0, 0, 0, 0, ...</td>\n",
       "      <td>[7.366819035439536, 5.096351966651024, 4.80938...</td>\n",
       "      <td>0.000000</td>\n",
       "    </tr>\n",
       "    <tr>\n",
       "      <th>481243</th>\n",
       "      <td>22533</td>\n",
       "      <td>[83, 1, 20, 114, 1, 11, 1, 1, 1, 1, 11, 83]</td>\n",
       "      <td>[0, 0, 0, 0, 0, 0, 0, 0, 0, 0, 0, 0]</td>\n",
       "      <td>[8.453237625660488, 5.39347489833861, 4.879761...</td>\n",
       "      <td>0.000000</td>\n",
       "    </tr>\n",
       "  </tbody>\n",
       "</table>\n",
       "<p>481243 rows × 5 columns</p>\n",
       "</div>"
      ],
      "text/plain": [
       "              user_id                                           mcc_code   \n",
       "sample_label                                                               \n",
       "0                   1  [1, 2, 2, 3, 1, 4, 5, 1, 4, 1, 6, 1, 2, 1, 4, ...  \\\n",
       "1                   1  [1, 12, 4, 3, 14, 2, 4, 1, 4, 2, 15, 16, 2, 1,...   \n",
       "2                   1  [1, 4, 11, 3, 4, 1, 4, 2, 19, 3, 4, 1, 4, 1, 4...   \n",
       "3                   1  [4, 3, 11, 21, 21, 3, 6, 1, 20, 15, 11, 3, 4, ...   \n",
       "4                   1  [1, 11, 15, 7, 17, 11, 15, 24, 24, 11, 2, 1, 4...   \n",
       "...               ...                                                ...   \n",
       "481239          22533  [1, 1, 1, 1, 1, 1, 1, 1, 1, 1, 1, 1, 1, 48, 1,...   \n",
       "481240          22533  [1, 1, 1, 1, 1, 1, 1, 1, 1, 33, 9, 1, 27, 1, 1...   \n",
       "481241          22533  [11, 1, 11, 1, 1, 1, 1, 1, 1, 1, 1, 1, 1, 1, 6...   \n",
       "481242          22533  [48, 1, 1, 83, 1, 1, 1, 1, 1, 1, 1, 1, 1, 1, 1...   \n",
       "481243          22533        [83, 1, 20, 114, 1, 11, 1, 1, 1, 1, 11, 83]   \n",
       "\n",
       "                                                      is_income   \n",
       "sample_label                                                      \n",
       "0             [0, 0, 0, 0, 0, 0, 0, 0, 0, 0, 0, 0, 0, 0, 0, ...  \\\n",
       "1             [0, 0, 0, 1, 0, 0, 0, 0, 0, 0, 0, 0, 0, 0, 0, ...   \n",
       "2             [0, 0, 1, 1, 0, 0, 0, 0, 0, 1, 0, 0, 0, 0, 0, ...   \n",
       "3             [0, 0, 0, 0, 0, 1, 0, 0, 0, 0, 0, 1, 0, 1, 0, ...   \n",
       "4             [0, 0, 0, 0, 0, 0, 0, 0, 0, 0, 0, 0, 0, 0, 0, ...   \n",
       "...                                                         ...   \n",
       "481239        [0, 0, 0, 0, 0, 0, 0, 0, 0, 0, 0, 0, 0, 0, 0, ...   \n",
       "481240        [0, 0, 0, 0, 0, 0, 0, 0, 0, 0, 0, 0, 0, 0, 0, ...   \n",
       "481241        [0, 0, 0, 0, 0, 0, 0, 0, 0, 0, 0, 0, 0, 0, 0, ...   \n",
       "481242        [0, 0, 0, 0, 0, 0, 0, 0, 0, 0, 0, 0, 0, 0, 0, ...   \n",
       "481243                     [0, 0, 0, 0, 0, 0, 0, 0, 0, 0, 0, 0]   \n",
       "\n",
       "                                                transaction_amt    target  \n",
       "sample_label                                                               \n",
       "0             [5.8890782152884285, 4.922270128420835, 4.9333...  0.000000  \n",
       "1             [6.0263467036668334, 9.354824711478289, 4.6838...  0.025641  \n",
       "2             [5.677461633888145, 4.9405905124028475, 10.439...  0.000000  \n",
       "3             [5.095079072067337, 5.932747262978507, 7.22032...  0.000000  \n",
       "4             [6.487398285124865, 6.464628178284367, 6.45578...  0.026316  \n",
       "...                                                         ...       ...  \n",
       "481239        [5.355194268545022, 7.228597283177507, 5.72364...  0.000000  \n",
       "481240        [5.6642124044848625, 5.708500925239155, 5.0548...  0.000000  \n",
       "481241        [4.420713792050053, 6.0492947505245525, 6.2712...  0.000000  \n",
       "481242        [7.366819035439536, 5.096351966651024, 4.80938...  0.000000  \n",
       "481243        [8.453237625660488, 5.39347489833861, 4.879761...  0.000000  \n",
       "\n",
       "[481243 rows x 5 columns]"
      ]
     },
     "execution_count": 172,
     "metadata": {},
     "output_type": "execute_result"
    }
   ],
   "source": [
    "seq_data"
   ]
  },
  {
   "cell_type": "code",
   "execution_count": 7,
   "metadata": {},
   "outputs": [],
   "source": [
    "datamodule = AEDataModule(\n",
    "        None,\n",
    "        seq_data,\n",
    "        cfg_preprop['user_column'],\n",
    "        cfg_preprop['mcc_column'],\n",
    "        cfg_preprop['transaction_amt_column'],\n",
    "        cfg_model['data_split']['val_size'],\n",
    "        1,\n",
    "        cfg_preprop['preproc']['len_max'],\n",
    "        4,\n",
    "        .5,\n",
    "        False,\n",
    "        binarize=False\n",
    "    )"
   ]
  },
  {
   "cell_type": "code",
   "execution_count": 8,
   "metadata": {},
   "outputs": [],
   "source": [
    "datamodule.setup('test')\n",
    "dataloader = datamodule.test_dataloader()"
   ]
  },
  {
   "cell_type": "code",
   "execution_count": 9,
   "metadata": {},
   "outputs": [],
   "source": [
    "best_model = LSTMAE.load_from_checkpoint(BEST_MODEL_PATH)"
   ]
  },
  {
   "cell_type": "code",
   "execution_count": 10,
   "metadata": {},
   "outputs": [
    {
     "data": {
      "application/vnd.jupyter.widget-view+json": {
       "model_id": "6e19e4e6578c4b568edafd13d125a90a",
       "version_major": 2,
       "version_minor": 0
      },
      "text/plain": [
       "  0%|          | 0/481243 [00:00<?, ?it/s]"
      ]
     },
     "metadata": {},
     "output_type": "display_data"
    }
   ],
   "source": [
    "if not os.path.exists('data/new_data/results/'):\n",
    "    os.mkdir('data/new_data/results/')\n",
    "\n",
    "if not os.path.exists(\n",
    "    f'data/new_data/results/model_{BEST_MODEL_PATH.split(\"/\")[-1].split(\".\")[0]}.npy'\n",
    "):\n",
    "    results = np.zeros((len(dataloader), 5), dtype=np.float32)\n",
    "\n",
    "    with torch.no_grad():\n",
    "        for i, batch in tqdm(enumerate(dataloader), total=len(dataloader)):\n",
    "            outputs = best_model.predict_step(batch, i)\n",
    "            results[i, 0] = batch[-1].cpu().numpy()\n",
    "            results[i, 1] = outputs[0].cpu().numpy()\n",
    "            results[i, 2:] = np.array(outputs[1])\n",
    "    np.save(\n",
    "        f'data/new_data/results/model_{BEST_MODEL_PATH.split(\"/\")[-1].split(\".\")[0]}',\n",
    "        results\n",
    "    )\n",
    "else:\n",
    "    results = np.load(\n",
    "        f'data/new_data/results/model_{BEST_MODEL_PATH.split(\"/\")[-1].split(\".\")[0]}.npy'\n",
    "    )\n"
   ]
  },
  {
   "cell_type": "code",
   "execution_count": 82,
   "metadata": {},
   "outputs": [
    {
     "data": {
      "text/plain": [
       "array([[0.00000000e+00, 0.00000000e+00, 1.59542835e+00, 7.30775952e-01,\n",
       "        5.14270505e-03, 3.50381941e-01],\n",
       "       [1.00000000e+00, 2.56410260e-02, 1.86030121e+01, 1.31568611e+00,\n",
       "        1.67518809e-01, 5.35445809e-01],\n",
       "       [2.00000000e+00, 0.00000000e+00, 1.25115871e+01, 1.15923464e+00,\n",
       "        1.05364658e-01, 8.15886319e-01],\n",
       "       ...,\n",
       "       [4.81241000e+05, 0.00000000e+00, 6.32796764e-01, 2.51682937e-01,\n",
       "        1.37048285e-03, 2.44065493e-01],\n",
       "       [4.81242000e+05, 0.00000000e+00, 1.22545123e+00, 4.53629881e-01,\n",
       "        3.17568518e-03, 4.54252869e-01],\n",
       "       [4.81243000e+05, 0.00000000e+00, 4.43617868e+00, 1.50234079e+00,\n",
       "        8.57872888e-03, 2.07596493e+00]])"
      ]
     },
     "execution_count": 82,
     "metadata": {},
     "output_type": "execute_result"
    }
   ],
   "source": [
    "np.concatenate((seq_data.index.values[:, np.newaxis], results), 1)"
   ]
  },
  {
   "cell_type": "code",
   "execution_count": 83,
   "metadata": {},
   "outputs": [],
   "source": [
    "results = np.concatenate((seq_data.index.values[:, np.newaxis], results), 1)"
   ]
  },
  {
   "cell_type": "code",
   "execution_count": 94,
   "metadata": {},
   "outputs": [],
   "source": [
    "anomaly_fraq = np.unique(results[:, 1])"
   ]
  },
  {
   "cell_type": "code",
   "execution_count": 95,
   "metadata": {},
   "outputs": [
    {
     "data": {
      "application/vnd.jupyter.widget-view+json": {
       "model_id": "eb9ac0de44b84dcd8803eb61b750c769",
       "version_major": 2,
       "version_minor": 0
      },
      "text/plain": [
       "  0%|          | 0/534 [00:00<?, ?it/s]"
      ]
     },
     "metadata": {},
     "output_type": "display_data"
    }
   ],
   "source": [
    "losses = []\n",
    "for fraq in tqdm(anomaly_fraq):\n",
    "    losses.append(results[np.argwhere(results[:, 1] == fraq)][:, 0, :])"
   ]
  },
  {
   "cell_type": "code",
   "execution_count": 96,
   "metadata": {},
   "outputs": [],
   "source": [
    "losses = np.concatenate(losses)\n",
    "losses_df = pd.DataFrame(losses, columns=['seq_id', 'anomaly_fraq', 'loss', 'mcc_loss', 'binary_loss', 'amt_loss'])"
   ]
  },
  {
   "cell_type": "code",
   "execution_count": 109,
   "metadata": {},
   "outputs": [],
   "source": [
    "losses_df['seq_id'] = losses_df['seq_id'].astype(np.int32)\n",
    "losses_df.set_index('seq_id', inplace=True)"
   ]
  },
  {
   "cell_type": "code",
   "execution_count": 110,
   "metadata": {},
   "outputs": [],
   "source": [
    "losses_df['loss_sum'] = losses_df['mcc_loss'] + losses_df['binary_loss'] + losses_df['amt_loss']"
   ]
  },
  {
   "cell_type": "code",
   "execution_count": 111,
   "metadata": {},
   "outputs": [],
   "source": [
    "def make_groups(fraq):\n",
    "    if fraq < .2:\n",
    "        return 0\n",
    "    elif .2 <= fraq < .5:\n",
    "        return 1\n",
    "    elif .5 <= fraq < .7:\n",
    "        return 2\n",
    "    else:\n",
    "        return 3\n",
    "    \n",
    "losses_df['class'] = losses_df['anomaly_fraq'].apply(make_groups)"
   ]
  },
  {
   "cell_type": "code",
   "execution_count": 116,
   "metadata": {},
   "outputs": [],
   "source": [
    "agg_df = pd.DataFrame(losses_df.groupby('anomaly_fraq').agg({\n",
    "    'loss': ['mean', 'std'],\n",
    "    'mcc_loss': ['mean', 'std'],\n",
    "    'binary_loss': ['mean', 'std'],\n",
    "    'amt_loss': ['mean', 'std'],\n",
    "    'loss_sum': ['mean', 'std']\n",
    "}))"
   ]
  },
  {
   "cell_type": "code",
   "execution_count": 113,
   "metadata": {},
   "outputs": [
    {
     "data": {
      "image/png": "[encoded data removed]",
      "text/plain": [
       "<Figure size 640x480 with 1 Axes>"
      ]
     },
     "metadata": {},
     "output_type": "display_data"
    }
   ],
   "source": [
    "plt.plot(agg_df.index, agg_df['loss_sum']['mean']);"
   ]
  },
  {
   "cell_type": "code",
   "execution_count": 115,
   "metadata": {},
   "outputs": [
    {
     "data": {
      "text/html": [
       "<div>\n",
       "<style scoped>\n",
       "    .dataframe tbody tr th:only-of-type {\n",
       "        vertical-align: middle;\n",
       "    }\n",
       "\n",
       "    .dataframe tbody tr th {\n",
       "        vertical-align: top;\n",
       "    }\n",
       "\n",
       "    .dataframe thead th {\n",
       "        text-align: right;\n",
       "    }\n",
       "</style>\n",
       "<table border=\"1\" class=\"dataframe\">\n",
       "  <thead>\n",
       "    <tr style=\"text-align: right;\">\n",
       "      <th></th>\n",
       "      <th>anomaly_fraq</th>\n",
       "      <th>loss</th>\n",
       "      <th>mcc_loss</th>\n",
       "      <th>binary_loss</th>\n",
       "      <th>amt_loss</th>\n",
       "      <th>loss_sum</th>\n",
       "      <th>class</th>\n",
       "    </tr>\n",
       "    <tr>\n",
       "      <th>seq_id</th>\n",
       "      <th></th>\n",
       "      <th></th>\n",
       "      <th></th>\n",
       "      <th></th>\n",
       "      <th></th>\n",
       "      <th></th>\n",
       "      <th></th>\n",
       "    </tr>\n",
       "  </thead>\n",
       "  <tbody>\n",
       "    <tr>\n",
       "      <th>0</th>\n",
       "      <td>0.0</td>\n",
       "      <td>1.595428</td>\n",
       "      <td>0.730776</td>\n",
       "      <td>5.142705e-03</td>\n",
       "      <td>0.350382</td>\n",
       "      <td>1.086301</td>\n",
       "      <td>0</td>\n",
       "    </tr>\n",
       "    <tr>\n",
       "      <th>2</th>\n",
       "      <td>0.0</td>\n",
       "      <td>12.511587</td>\n",
       "      <td>1.159235</td>\n",
       "      <td>1.053647e-01</td>\n",
       "      <td>0.815886</td>\n",
       "      <td>2.080486</td>\n",
       "      <td>0</td>\n",
       "    </tr>\n",
       "    <tr>\n",
       "      <th>3</th>\n",
       "      <td>0.0</td>\n",
       "      <td>11.977140</td>\n",
       "      <td>1.619344</td>\n",
       "      <td>9.817956e-02</td>\n",
       "      <td>0.539840</td>\n",
       "      <td>2.257364</td>\n",
       "      <td>0</td>\n",
       "    </tr>\n",
       "    <tr>\n",
       "      <th>5</th>\n",
       "      <td>0.0</td>\n",
       "      <td>25.044844</td>\n",
       "      <td>1.392464</td>\n",
       "      <td>2.277618e-01</td>\n",
       "      <td>0.876202</td>\n",
       "      <td>2.496427</td>\n",
       "      <td>0</td>\n",
       "    </tr>\n",
       "    <tr>\n",
       "      <th>6</th>\n",
       "      <td>0.0</td>\n",
       "      <td>11.992435</td>\n",
       "      <td>1.410223</td>\n",
       "      <td>9.980647e-02</td>\n",
       "      <td>0.601564</td>\n",
       "      <td>2.111594</td>\n",
       "      <td>0</td>\n",
       "    </tr>\n",
       "    <tr>\n",
       "      <th>...</th>\n",
       "      <td>...</td>\n",
       "      <td>...</td>\n",
       "      <td>...</td>\n",
       "      <td>...</td>\n",
       "      <td>...</td>\n",
       "      <td>...</td>\n",
       "      <td>...</td>\n",
       "    </tr>\n",
       "    <tr>\n",
       "      <th>146891</th>\n",
       "      <td>1.0</td>\n",
       "      <td>0.072103</td>\n",
       "      <td>0.000036</td>\n",
       "      <td>1.753178e-07</td>\n",
       "      <td>0.072049</td>\n",
       "      <td>0.072085</td>\n",
       "      <td>3</td>\n",
       "    </tr>\n",
       "    <tr>\n",
       "      <th>233111</th>\n",
       "      <td>1.0</td>\n",
       "      <td>33.193787</td>\n",
       "      <td>6.796909</td>\n",
       "      <td>2.068854e-02</td>\n",
       "      <td>24.328026</td>\n",
       "      <td>31.145624</td>\n",
       "      <td>3</td>\n",
       "    </tr>\n",
       "    <tr>\n",
       "      <th>313794</th>\n",
       "      <td>1.0</td>\n",
       "      <td>0.027697</td>\n",
       "      <td>0.000733</td>\n",
       "      <td>1.979942e-11</td>\n",
       "      <td>0.026964</td>\n",
       "      <td>0.027697</td>\n",
       "      <td>3</td>\n",
       "    </tr>\n",
       "    <tr>\n",
       "      <th>330356</th>\n",
       "      <td>1.0</td>\n",
       "      <td>0.005803</td>\n",
       "      <td>0.000789</td>\n",
       "      <td>1.801026e-10</td>\n",
       "      <td>0.005014</td>\n",
       "      <td>0.005803</td>\n",
       "      <td>3</td>\n",
       "    </tr>\n",
       "    <tr>\n",
       "      <th>416643</th>\n",
       "      <td>1.0</td>\n",
       "      <td>0.033701</td>\n",
       "      <td>0.000840</td>\n",
       "      <td>7.842237e-12</td>\n",
       "      <td>0.032861</td>\n",
       "      <td>0.033701</td>\n",
       "      <td>3</td>\n",
       "    </tr>\n",
       "  </tbody>\n",
       "</table>\n",
       "<p>481243 rows × 7 columns</p>\n",
       "</div>"
      ],
      "text/plain": [
       "        anomaly_fraq       loss  mcc_loss   binary_loss   amt_loss   loss_sum   \n",
       "seq_id                                                                          \n",
       "0                0.0   1.595428  0.730776  5.142705e-03   0.350382   1.086301  \\\n",
       "2                0.0  12.511587  1.159235  1.053647e-01   0.815886   2.080486   \n",
       "3                0.0  11.977140  1.619344  9.817956e-02   0.539840   2.257364   \n",
       "5                0.0  25.044844  1.392464  2.277618e-01   0.876202   2.496427   \n",
       "6                0.0  11.992435  1.410223  9.980647e-02   0.601564   2.111594   \n",
       "...              ...        ...       ...           ...        ...        ...   \n",
       "146891           1.0   0.072103  0.000036  1.753178e-07   0.072049   0.072085   \n",
       "233111           1.0  33.193787  6.796909  2.068854e-02  24.328026  31.145624   \n",
       "313794           1.0   0.027697  0.000733  1.979942e-11   0.026964   0.027697   \n",
       "330356           1.0   0.005803  0.000789  1.801026e-10   0.005014   0.005803   \n",
       "416643           1.0   0.033701  0.000840  7.842237e-12   0.032861   0.033701   \n",
       "\n",
       "        class  \n",
       "seq_id         \n",
       "0           0  \n",
       "2           0  \n",
       "3           0  \n",
       "5           0  \n",
       "6           0  \n",
       "...       ...  \n",
       "146891      3  \n",
       "233111      3  \n",
       "313794      3  \n",
       "330356      3  \n",
       "416643      3  \n",
       "\n",
       "[481243 rows x 7 columns]"
      ]
     },
     "execution_count": 115,
     "metadata": {},
     "output_type": "execute_result"
    }
   ],
   "source": [
    "losses_df"
   ]
  },
  {
   "cell_type": "code",
   "execution_count": 67,
   "metadata": {},
   "outputs": [
    {
     "data": {
      "text/plain": [
       "31.145624"
      ]
     },
     "execution_count": 67,
     "metadata": {},
     "output_type": "execute_result"
    }
   ],
   "source": [
    "losses_df[losses_df['anomaly_fraq'] >= .5]['loss_sum'].max()"
   ]
  },
  {
   "cell_type": "code",
   "execution_count": 49,
   "metadata": {},
   "outputs": [],
   "source": [
    "from sklearn.metrics import precision_recall_curve"
   ]
  },
  {
   "cell_type": "code",
   "execution_count": 64,
   "metadata": {},
   "outputs": [],
   "source": [
    "def get_optimum_threshold(y_true, y_pred_proba):\n",
    "    precisions, recalls, trs = precision_recall_curve(\n",
    "        y_true, y_pred_proba\n",
    "    )\n",
    "\n",
    "    f1_scores = 2 * (precisions * recalls) / (precisions + recalls)\n",
    "    print(f1_scores.max())\n",
    "\n",
    "    return trs[np.argmax(f1_scores)]"
   ]
  },
  {
   "cell_type": "code",
   "execution_count": 72,
   "metadata": {},
   "outputs": [],
   "source": [
    "y_true = losses_df['anomaly_fraq'] >= .6"
   ]
  },
  {
   "cell_type": "code",
   "execution_count": 73,
   "metadata": {},
   "outputs": [
    {
     "name": "stdout",
     "output_type": "stream",
     "text": [
      "0.10526315789473684\n"
     ]
    },
    {
     "data": {
      "text/plain": [
       "31.145624"
      ]
     },
     "execution_count": 73,
     "metadata": {},
     "output_type": "execute_result"
    }
   ],
   "source": [
    "get_optimum_threshold(y_true, losses_df['loss_sum'].values)"
   ]
  },
  {
   "cell_type": "code",
   "execution_count": 119,
   "metadata": {},
   "outputs": [
    {
     "data": {
      "text/plain": [
       "<BarContainer object of 100 artists>"
      ]
     },
     "execution_count": 119,
     "metadata": {},
     "output_type": "execute_result"
    },
    {
     "data": {
      "image/png": "[encoded data removed]",
      "text/plain": [
       "<Figure size 700x500 with 1 Axes>"
      ]
     },
     "metadata": {},
     "output_type": "display_data"
    }
   ],
   "source": [
    "plt.rcParams.update({'figure.figsize':(7,5), 'figure.dpi':100})\n",
    "\n",
    "# Plot Histogram on x\n",
    "x = losses_df[losses_df['loss'] < .1]['loss']\n",
    "\n",
    "# Get histogram\n",
    "hist, bins = np.histogram(x, bins=100)\n",
    "# hist = hist / np.sum(hist)\n",
    "\n",
    "# Threshold frequency\n",
    "freq = 0 #500\n",
    "\n",
    "# Zero out low values\n",
    "hist[np.where(hist <= freq)] = 0\n",
    "\n",
    "# Plot\n",
    "width = 0.8 * (bins[1] - bins[0])\n",
    "center = (bins[:-1] + bins[1:]) / 2\n",
    "plt.xlim([0, 0.1])\n",
    "#plt.margins(0.05)\n",
    "plt.bar(center, hist, align='center', width=width, color = '#33D860', label='normal', alpha=0.5)"
   ]
  },
  {
   "cell_type": "code",
   "execution_count": 120,
   "metadata": {},
   "outputs": [
    {
     "data": {
      "text/plain": [
       "<Axes: xlabel='loss_sum'>"
      ]
     },
     "execution_count": 120,
     "metadata": {},
     "output_type": "execute_result"
    },
    {
     "data": {
      "image/png": "[encoded data removed]",
      "text/plain": [
       "<Figure size 700x500 with 1 Axes>"
      ]
     },
     "metadata": {},
     "output_type": "display_data"
    }
   ],
   "source": [
    "sns.boxplot(x=losses_df['loss_sum'])"
   ]
  },
  {
   "attachments": {},
   "cell_type": "markdown",
   "metadata": {},
   "source": [
    "Важно! Модель посчитала аномалией набор транзакций с азартными играми (7995 - азартные игры)\n",
    "\n",
    "user_id - 10682\n",
    "\n",
    "seq_index - 228781"
   ]
  },
  {
   "cell_type": "code",
   "execution_count": 162,
   "metadata": {},
   "outputs": [
    {
     "data": {
      "text/html": [
       "<div>\n",
       "<style scoped>\n",
       "    .dataframe tbody tr th:only-of-type {\n",
       "        vertical-align: middle;\n",
       "    }\n",
       "\n",
       "    .dataframe tbody tr th {\n",
       "        vertical-align: top;\n",
       "    }\n",
       "\n",
       "    .dataframe thead th {\n",
       "        text-align: right;\n",
       "    }\n",
       "</style>\n",
       "<table border=\"1\" class=\"dataframe\">\n",
       "  <thead>\n",
       "    <tr style=\"text-align: right;\">\n",
       "      <th></th>\n",
       "      <th>anomaly_fraq</th>\n",
       "      <th>loss</th>\n",
       "      <th>mcc_loss</th>\n",
       "      <th>binary_loss</th>\n",
       "      <th>amt_loss</th>\n",
       "      <th>loss_sum</th>\n",
       "      <th>class</th>\n",
       "    </tr>\n",
       "    <tr>\n",
       "      <th>seq_id</th>\n",
       "      <th></th>\n",
       "      <th></th>\n",
       "      <th></th>\n",
       "      <th></th>\n",
       "      <th></th>\n",
       "      <th></th>\n",
       "      <th></th>\n",
       "    </tr>\n",
       "  </thead>\n",
       "  <tbody>\n",
       "    <tr>\n",
       "      <th>106900</th>\n",
       "      <td>0.0</td>\n",
       "      <td>23.073166</td>\n",
       "      <td>3.290904</td>\n",
       "      <td>0.020689</td>\n",
       "      <td>17.713409</td>\n",
       "      <td>21.025002</td>\n",
       "      <td>0</td>\n",
       "    </tr>\n",
       "    <tr>\n",
       "      <th>114053</th>\n",
       "      <td>0.0</td>\n",
       "      <td>27.821541</td>\n",
       "      <td>3.920145</td>\n",
       "      <td>0.020689</td>\n",
       "      <td>21.832542</td>\n",
       "      <td>25.773376</td>\n",
       "      <td>0</td>\n",
       "    </tr>\n",
       "    <tr>\n",
       "      <th>168182</th>\n",
       "      <td>0.0</td>\n",
       "      <td>24.901468</td>\n",
       "      <td>3.920145</td>\n",
       "      <td>0.020689</td>\n",
       "      <td>18.912470</td>\n",
       "      <td>22.853303</td>\n",
       "      <td>0</td>\n",
       "    </tr>\n",
       "    <tr>\n",
       "      <th>192826</th>\n",
       "      <td>0.0</td>\n",
       "      <td>45.919579</td>\n",
       "      <td>1.038726</td>\n",
       "      <td>0.223977</td>\n",
       "      <td>22.483152</td>\n",
       "      <td>23.745856</td>\n",
       "      <td>0</td>\n",
       "    </tr>\n",
       "    <tr>\n",
       "      <th>257582</th>\n",
       "      <td>0.0</td>\n",
       "      <td>22.851784</td>\n",
       "      <td>7.075835</td>\n",
       "      <td>0.020689</td>\n",
       "      <td>13.707093</td>\n",
       "      <td>20.803617</td>\n",
       "      <td>0</td>\n",
       "    </tr>\n",
       "    <tr>\n",
       "      <th>375812</th>\n",
       "      <td>0.0</td>\n",
       "      <td>53.783756</td>\n",
       "      <td>0.550530</td>\n",
       "      <td>0.331436</td>\n",
       "      <td>20.089630</td>\n",
       "      <td>20.971596</td>\n",
       "      <td>0</td>\n",
       "    </tr>\n",
       "    <tr>\n",
       "      <th>375810</th>\n",
       "      <td>0.5</td>\n",
       "      <td>23.261929</td>\n",
       "      <td>6.309790</td>\n",
       "      <td>0.020701</td>\n",
       "      <td>14.882029</td>\n",
       "      <td>21.212520</td>\n",
       "      <td>2</td>\n",
       "    </tr>\n",
       "    <tr>\n",
       "      <th>233111</th>\n",
       "      <td>1.0</td>\n",
       "      <td>33.193787</td>\n",
       "      <td>6.796909</td>\n",
       "      <td>0.020689</td>\n",
       "      <td>24.328026</td>\n",
       "      <td>31.145624</td>\n",
       "      <td>3</td>\n",
       "    </tr>\n",
       "  </tbody>\n",
       "</table>\n",
       "</div>"
      ],
      "text/plain": [
       "        anomaly_fraq       loss  mcc_loss  binary_loss   amt_loss   loss_sum   \n",
       "seq_id                                                                         \n",
       "106900           0.0  23.073166  3.290904     0.020689  17.713409  21.025002  \\\n",
       "114053           0.0  27.821541  3.920145     0.020689  21.832542  25.773376   \n",
       "168182           0.0  24.901468  3.920145     0.020689  18.912470  22.853303   \n",
       "192826           0.0  45.919579  1.038726     0.223977  22.483152  23.745856   \n",
       "257582           0.0  22.851784  7.075835     0.020689  13.707093  20.803617   \n",
       "375812           0.0  53.783756  0.550530     0.331436  20.089630  20.971596   \n",
       "375810           0.5  23.261929  6.309790     0.020701  14.882029  21.212520   \n",
       "233111           1.0  33.193787  6.796909     0.020689  24.328026  31.145624   \n",
       "\n",
       "        class  \n",
       "seq_id         \n",
       "106900      0  \n",
       "114053      0  \n",
       "168182      0  \n",
       "192826      0  \n",
       "257582      0  \n",
       "375812      0  \n",
       "375810      2  \n",
       "233111      3  "
      ]
     },
     "execution_count": 162,
     "metadata": {},
     "output_type": "execute_result"
    }
   ],
   "source": [
    "losses_df[losses_df['loss_sum'] > 20]"
   ]
  },
  {
   "cell_type": "code",
   "execution_count": 168,
   "metadata": {},
   "outputs": [
    {
     "data": {
      "text/plain": [
       "array([11, 11, 11, 11, 11, 11, 11, 11, 11, 11, 11, 11, 11, 11, 11, 11, 11,\n",
       "       11, 11, 11, 11, 11, 11, 11, 11, 11, 11, 11, 11, 11, 11, 11, 11, 11,\n",
       "       11, 11, 11, 11, 11, 11])"
      ]
     },
     "execution_count": 168,
     "metadata": {},
     "output_type": "execute_result"
    }
   ],
   "source": [
    "seq_data.loc[375812]['mcc_code']"
   ]
  },
  {
   "cell_type": "code",
   "execution_count": 91,
   "metadata": {},
   "outputs": [
    {
     "data": {
      "text/plain": [
       "array([ 22.640741, 109.61357 , 104.53754 ,  46.06033 , 146.29277 ,\n",
       "       906.0762  , 615.7704  ,  42.93056 ,  45.062397,  53.22185 ,\n",
       "       106.4844  ,  49.638184,  41.42833 , 108.79991 ,  43.768253,\n",
       "        91.294975,  26.3708  ,  46.409595,  74.03558 , 299.65143 ,\n",
       "        52.786674,  55.04169 ,  47.810593,  42.436966,  92.17858 ,\n",
       "        92.656   ,  90.42266 ,  45.48023 ,  54.039265,  55.719685,\n",
       "       108.61172 , 108.3005  ,  52.05275 , 104.6088  , 165.3661  ,\n",
       "        94.977066, 443.53137 ,  93.68741 ,  26.717432,  94.710556])"
      ]
     },
     "execution_count": 91,
     "metadata": {},
     "output_type": "execute_result"
    }
   ],
   "source": [
    "np.exp(seq_data.iloc[228781]['transaction_amt'])"
   ]
  },
  {
   "cell_type": "code",
   "execution_count": 169,
   "metadata": {},
   "outputs": [],
   "source": [
    "with open('data/new_data/preprocessed/mcc2id.dict', 'rb') as f:\n",
    "    with open('data/new_data/preprocessed/user2id.dict', 'rb') as f_1:\n",
    "        mcc2id = dict(pickle.loads(f.read()))\n",
    "        user2id = dict(pickle.loads(f_1.read()))"
   ]
  },
  {
   "cell_type": "code",
   "execution_count": 170,
   "metadata": {},
   "outputs": [],
   "source": [
    "id2mcc = {}\n",
    "id2user = {}\n",
    "for k, v in mcc2id.items():\n",
    "    id2mcc[v] = k\n",
    "for k, v in user2id.items():\n",
    "    id2user[v] = k"
   ]
  },
  {
   "cell_type": "code",
   "execution_count": 171,
   "metadata": {},
   "outputs": [
    {
     "data": {
      "text/plain": [
       "6011"
      ]
     },
     "execution_count": 171,
     "metadata": {},
     "output_type": "execute_result"
    }
   ],
   "source": [
    "id2mcc[11]"
   ]
  },
  {
   "cell_type": "code",
   "execution_count": 92,
   "metadata": {},
   "outputs": [
    {
     "data": {
      "text/html": [
       "<div>\n",
       "<style scoped>\n",
       "    .dataframe tbody tr th:only-of-type {\n",
       "        vertical-align: middle;\n",
       "    }\n",
       "\n",
       "    .dataframe tbody tr th {\n",
       "        vertical-align: top;\n",
       "    }\n",
       "\n",
       "    .dataframe thead th {\n",
       "        text-align: right;\n",
       "    }\n",
       "</style>\n",
       "<table border=\"1\" class=\"dataframe\">\n",
       "  <thead>\n",
       "    <tr style=\"text-align: right;\">\n",
       "      <th></th>\n",
       "      <th>anomaly_fraq</th>\n",
       "      <th>loss</th>\n",
       "      <th>mcc_loss</th>\n",
       "      <th>binary_loss</th>\n",
       "      <th>amt_loss</th>\n",
       "      <th>class</th>\n",
       "    </tr>\n",
       "  </thead>\n",
       "  <tbody>\n",
       "    <tr>\n",
       "      <th>27003</th>\n",
       "      <td>0.000</td>\n",
       "      <td>2.301008</td>\n",
       "      <td>1.652921</td>\n",
       "      <td>1.368638e-06</td>\n",
       "      <td>0.647950</td>\n",
       "      <td>0</td>\n",
       "    </tr>\n",
       "    <tr>\n",
       "      <th>152523</th>\n",
       "      <td>0.000</td>\n",
       "      <td>1.026022</td>\n",
       "      <td>1.024961</td>\n",
       "      <td>8.510493e-08</td>\n",
       "      <td>0.001053</td>\n",
       "      <td>0</td>\n",
       "    </tr>\n",
       "    <tr>\n",
       "      <th>190996</th>\n",
       "      <td>0.000</td>\n",
       "      <td>1.750069</td>\n",
       "      <td>0.000349</td>\n",
       "      <td>1.661448e-02</td>\n",
       "      <td>0.088273</td>\n",
       "      <td>0</td>\n",
       "    </tr>\n",
       "    <tr>\n",
       "      <th>228781</th>\n",
       "      <td>0.000</td>\n",
       "      <td>8.238477</td>\n",
       "      <td>0.000121</td>\n",
       "      <td>8.231580e-02</td>\n",
       "      <td>0.006775</td>\n",
       "      <td>0</td>\n",
       "    </tr>\n",
       "    <tr>\n",
       "      <th>336094</th>\n",
       "      <td>0.000</td>\n",
       "      <td>1.584863</td>\n",
       "      <td>1.581835</td>\n",
       "      <td>1.119445e-06</td>\n",
       "      <td>0.002917</td>\n",
       "      <td>0</td>\n",
       "    </tr>\n",
       "    <tr>\n",
       "      <th>463958</th>\n",
       "      <td>0.075</td>\n",
       "      <td>1.010901</td>\n",
       "      <td>0.997991</td>\n",
       "      <td>1.396667e-06</td>\n",
       "      <td>0.012770</td>\n",
       "      <td>0</td>\n",
       "    </tr>\n",
       "    <tr>\n",
       "      <th>472099</th>\n",
       "      <td>0.100</td>\n",
       "      <td>1.370712</td>\n",
       "      <td>1.360427</td>\n",
       "      <td>1.221470e-06</td>\n",
       "      <td>0.010163</td>\n",
       "      <td>0</td>\n",
       "    </tr>\n",
       "  </tbody>\n",
       "</table>\n",
       "</div>"
      ],
      "text/plain": [
       "        anomaly_fraq      loss  mcc_loss   binary_loss  amt_loss  class\n",
       "27003          0.000  2.301008  1.652921  1.368638e-06  0.647950      0\n",
       "152523         0.000  1.026022  1.024961  8.510493e-08  0.001053      0\n",
       "190996         0.000  1.750069  0.000349  1.661448e-02  0.088273      0\n",
       "228781         0.000  8.238477  0.000121  8.231580e-02  0.006775      0\n",
       "336094         0.000  1.584863  1.581835  1.119445e-06  0.002917      0\n",
       "463958         0.075  1.010901  0.997991  1.396667e-06  0.012770      0\n",
       "472099         0.100  1.370712  1.360427  1.221470e-06  0.010163      0"
      ]
     },
     "execution_count": 92,
     "metadata": {},
     "output_type": "execute_result"
    }
   ],
   "source": [
    "losses_df[losses_df['loss'] > 1]"
   ]
  },
  {
   "cell_type": "code",
   "execution_count": 105,
   "metadata": {},
   "outputs": [
    {
     "data": {
      "text/plain": [
       "array([ 4, 27,  4, 17, 11, 11,  1,  1,  1,  4,  4,  4, 29, 27, 10,  1,  4,\n",
       "        3,  1, 27, 79,  4,  4, 45, 45,  1,  1, 83, 20, 10,  9,  9, 83,  4,\n",
       "        4, 10,  4,  4,  1, 10])"
      ]
     },
     "execution_count": 105,
     "metadata": {},
     "output_type": "execute_result"
    }
   ],
   "source": [
    "seq_data.iloc[152523]['mcc_code']"
   ]
  },
  {
   "cell_type": "code",
   "execution_count": 106,
   "metadata": {},
   "outputs": [
    {
     "data": {
      "text/plain": [
       "array([  105.706215,   453.6131  ,   637.0809  ,  2113.6567  ,\n",
       "        3734.1477  ,  5319.124   ,   577.4285  ,   452.62314 ,\n",
       "        1194.3778  ,    45.360874,   177.24718 ,    93.19953 ,\n",
       "        2469.5986  ,   827.13464 ,   207.84126 ,   937.9837  ,\n",
       "         106.322   , 14444.672   ,   669.1018  ,   465.40512 ,\n",
       "         848.62244 ,    92.386734,   172.4608  ,    18.137623,\n",
       "         397.60193 ,   514.62616 ,   627.13965 ,  2120.0928  ,\n",
       "        1160.5157  ,   179.77898 ,   105.38092 ,   789.8764  ,\n",
       "         741.5316  ,   512.9007  ,    89.932335,    74.01915 ,\n",
       "         108.026276,   108.19927 ,   787.0158  ,   214.07022 ])"
      ]
     },
     "execution_count": 106,
     "metadata": {},
     "output_type": "execute_result"
    }
   ],
   "source": [
    "np.exp(seq_data.iloc[152523]['transaction_amt'])"
   ]
  },
  {
   "cell_type": "code",
   "execution_count": 107,
   "metadata": {},
   "outputs": [
    {
     "data": {
      "text/plain": [
       "4121"
      ]
     },
     "execution_count": 107,
     "metadata": {},
     "output_type": "execute_result"
    }
   ],
   "source": [
    "id2mcc[45]"
   ]
  },
  {
   "cell_type": "code",
   "execution_count": 79,
   "metadata": {},
   "outputs": [],
   "source": [
    "orig_df = pd.read_parquet('data/new_data/transactions.parquet')"
   ]
  },
  {
   "cell_type": "code",
   "execution_count": 88,
   "metadata": {},
   "outputs": [
    {
     "data": {
      "text/html": [
       "<div>\n",
       "<style scoped>\n",
       "    .dataframe tbody tr th:only-of-type {\n",
       "        vertical-align: middle;\n",
       "    }\n",
       "\n",
       "    .dataframe tbody tr th {\n",
       "        vertical-align: top;\n",
       "    }\n",
       "\n",
       "    .dataframe thead th {\n",
       "        text-align: right;\n",
       "    }\n",
       "</style>\n",
       "<table border=\"1\" class=\"dataframe\">\n",
       "  <thead>\n",
       "    <tr style=\"text-align: right;\">\n",
       "      <th></th>\n",
       "      <th>user_id</th>\n",
       "      <th>mcc_code</th>\n",
       "      <th>currency_rk</th>\n",
       "      <th>transaction_amt</th>\n",
       "      <th>transaction_dttm</th>\n",
       "    </tr>\n",
       "  </thead>\n",
       "  <tbody>\n",
       "    <tr>\n",
       "      <th>9427255</th>\n",
       "      <td>782283ce1b594f618f8424fe25500c85</td>\n",
       "      <td>7995</td>\n",
       "      <td>48</td>\n",
       "      <td>-40.205284</td>\n",
       "      <td>2020-07-31 06:38:43</td>\n",
       "    </tr>\n",
       "    <tr>\n",
       "      <th>9427258</th>\n",
       "      <td>782283ce1b594f618f8424fe25500c85</td>\n",
       "      <td>7995</td>\n",
       "      <td>48</td>\n",
       "      <td>-36.907352</td>\n",
       "      <td>2020-08-01 06:45:14</td>\n",
       "    </tr>\n",
       "    <tr>\n",
       "      <th>9427259</th>\n",
       "      <td>782283ce1b594f618f8424fe25500c85</td>\n",
       "      <td>7995</td>\n",
       "      <td>48</td>\n",
       "      <td>-47.200695</td>\n",
       "      <td>2020-08-01 06:53:42</td>\n",
       "    </tr>\n",
       "    <tr>\n",
       "      <th>9427260</th>\n",
       "      <td>782283ce1b594f618f8424fe25500c85</td>\n",
       "      <td>7995</td>\n",
       "      <td>48</td>\n",
       "      <td>-36.507774</td>\n",
       "      <td>2020-08-01 07:27:25</td>\n",
       "    </tr>\n",
       "    <tr>\n",
       "      <th>9427262</th>\n",
       "      <td>782283ce1b594f618f8424fe25500c85</td>\n",
       "      <td>7995</td>\n",
       "      <td>48</td>\n",
       "      <td>-37.392696</td>\n",
       "      <td>2020-08-01 09:21:51</td>\n",
       "    </tr>\n",
       "    <tr>\n",
       "      <th>...</th>\n",
       "      <td>...</td>\n",
       "      <td>...</td>\n",
       "      <td>...</td>\n",
       "      <td>...</td>\n",
       "      <td>...</td>\n",
       "    </tr>\n",
       "    <tr>\n",
       "      <th>9428296</th>\n",
       "      <td>782283ce1b594f618f8424fe25500c85</td>\n",
       "      <td>7995</td>\n",
       "      <td>48</td>\n",
       "      <td>-90.043236</td>\n",
       "      <td>2021-01-24 03:22:03</td>\n",
       "    </tr>\n",
       "    <tr>\n",
       "      <th>9428297</th>\n",
       "      <td>782283ce1b594f618f8424fe25500c85</td>\n",
       "      <td>7995</td>\n",
       "      <td>48</td>\n",
       "      <td>-211.213870</td>\n",
       "      <td>2021-01-24 04:40:14</td>\n",
       "    </tr>\n",
       "    <tr>\n",
       "      <th>9428303</th>\n",
       "      <td>782283ce1b594f618f8424fe25500c85</td>\n",
       "      <td>7995</td>\n",
       "      <td>48</td>\n",
       "      <td>-22.310303</td>\n",
       "      <td>2021-01-26 14:16:54</td>\n",
       "    </tr>\n",
       "    <tr>\n",
       "      <th>9428304</th>\n",
       "      <td>782283ce1b594f618f8424fe25500c85</td>\n",
       "      <td>7995</td>\n",
       "      <td>48</td>\n",
       "      <td>-107.449690</td>\n",
       "      <td>2021-01-26 15:33:23</td>\n",
       "    </tr>\n",
       "    <tr>\n",
       "      <th>9428306</th>\n",
       "      <td>782283ce1b594f618f8424fe25500c85</td>\n",
       "      <td>7995</td>\n",
       "      <td>48</td>\n",
       "      <td>-108.306250</td>\n",
       "      <td>2021-01-27 15:28:03</td>\n",
       "    </tr>\n",
       "  </tbody>\n",
       "</table>\n",
       "<p>614 rows × 5 columns</p>\n",
       "</div>"
      ],
      "text/plain": [
       "                                  user_id  mcc_code  currency_rk   \n",
       "9427255  782283ce1b594f618f8424fe25500c85      7995           48  \\\n",
       "9427258  782283ce1b594f618f8424fe25500c85      7995           48   \n",
       "9427259  782283ce1b594f618f8424fe25500c85      7995           48   \n",
       "9427260  782283ce1b594f618f8424fe25500c85      7995           48   \n",
       "9427262  782283ce1b594f618f8424fe25500c85      7995           48   \n",
       "...                                   ...       ...          ...   \n",
       "9428296  782283ce1b594f618f8424fe25500c85      7995           48   \n",
       "9428297  782283ce1b594f618f8424fe25500c85      7995           48   \n",
       "9428303  782283ce1b594f618f8424fe25500c85      7995           48   \n",
       "9428304  782283ce1b594f618f8424fe25500c85      7995           48   \n",
       "9428306  782283ce1b594f618f8424fe25500c85      7995           48   \n",
       "\n",
       "         transaction_amt     transaction_dttm  \n",
       "9427255       -40.205284  2020-07-31 06:38:43  \n",
       "9427258       -36.907352  2020-08-01 06:45:14  \n",
       "9427259       -47.200695  2020-08-01 06:53:42  \n",
       "9427260       -36.507774  2020-08-01 07:27:25  \n",
       "9427262       -37.392696  2020-08-01 09:21:51  \n",
       "...                  ...                  ...  \n",
       "9428296       -90.043236  2021-01-24 03:22:03  \n",
       "9428297      -211.213870  2021-01-24 04:40:14  \n",
       "9428303       -22.310303  2021-01-26 14:16:54  \n",
       "9428304      -107.449690  2021-01-26 15:33:23  \n",
       "9428306      -108.306250  2021-01-27 15:28:03  \n",
       "\n",
       "[614 rows x 5 columns]"
      ]
     },
     "execution_count": 88,
     "metadata": {},
     "output_type": "execute_result"
    }
   ],
   "source": [
    "orig_df[(orig_df['user_id'] == id2user[10682]) & (orig_df['mcc_code'] == 7995)]"
   ]
  },
  {
   "cell_type": "code",
   "execution_count": null,
   "metadata": {},
   "outputs": [],
   "source": []
  },
  {
   "cell_type": "code",
   "execution_count": null,
   "metadata": {},
   "outputs": [],
   "source": []
  },
  {
   "cell_type": "code",
   "execution_count": null,
   "metadata": {},
   "outputs": [],
   "source": []
  },
  {
   "cell_type": "code",
   "execution_count": null,
   "metadata": {},
   "outputs": [],
   "source": []
  }
 ],
 "metadata": {
  "kernelspec": {
   "display_name": "base",
   "language": "python",
   "name": "python3"
  },
  "language_info": {
   "codemirror_mode": {
    "name": "ipython",
    "version": 3
   },
   "file_extension": ".py",
   "mimetype": "text/x-python",
   "name": "python",
   "nbconvert_exporter": "python",
   "pygments_lexer": "ipython3",
   "version": "3.9.16"
  },
  "orig_nbformat": 4
 },
 "nbformat": 4,
 "nbformat_minor": 2
}
