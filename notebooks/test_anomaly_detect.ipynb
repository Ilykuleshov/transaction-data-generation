{
 "cells": [
  {
   "cell_type": "code",
   "execution_count": 1,
   "metadata": {},
   "outputs": [],
   "source": [
    "import os, sys\n",
    "dir2 = os.path.abspath('')\n",
    "dir1 = os.path.dirname(dir2)\n",
    "if not dir1 in sys.path: sys.path.append(dir1)"
   ]
  },
  {
   "cell_type": "code",
   "execution_count": 2,
   "metadata": {},
   "outputs": [],
   "source": [
    "os.chdir('..')"
   ]
  },
  {
   "cell_type": "code",
   "execution_count": 3,
   "metadata": {},
   "outputs": [],
   "source": [
    "import pickle\n",
    "\n",
    "from hydra import compose, initialize\n",
    "from omegaconf import OmegaConf\n",
    "\n",
    "import numpy as np\n",
    "import pandas as pd\n",
    "\n",
    "import matplotlib.pyplot as plt\n",
    "import seaborn as sns\n",
    "\n",
    "import torch\n",
    "\n",
    "from tqdm.notebook import tqdm\n",
    "\n",
    "from src.preprocessing.new_data_preprop import preprocessing\n",
    "from src.datamodules.autoencoder import AEDataModule\n",
    "from src.networks.lstm import LSTMAE\n",
    "\n",
    "%load_ext autoreload\n",
    "%autoreload 2"
   ]
  },
  {
   "cell_type": "code",
   "execution_count": 4,
   "metadata": {},
   "outputs": [],
   "source": [
    "BEST_MODEL_PATH = 'logs/lstm_new/checkpoints/lstm__embed_dim256_num_layers_1_user_embed_32_masked_pred_0.2.ckpt'"
   ]
  },
  {
   "cell_type": "code",
   "execution_count": 5,
   "metadata": {},
   "outputs": [],
   "source": [
    "with initialize(config_path='../config', version_base=None):\n",
    "    cfg = compose(config_name='config')\n",
    "cfg_preprop = cfg['dataset']\n",
    "cfg_model = cfg['autoencoder']"
   ]
  },
  {
   "cell_type": "code",
   "execution_count": 6,
   "metadata": {},
   "outputs": [],
   "source": [
    "seq_data, data_srt = preprocessing(cfg_preprop, return_preproc=True)"
   ]
  },
  {
   "cell_type": "code",
   "execution_count": 7,
   "metadata": {},
   "outputs": [
    {
     "data": {
      "text/plain": [
       "user_id            1385\n",
       "mcc_code           1385\n",
       "is_income          1385\n",
       "transaction_amt    1385\n",
       "target             1385\n",
       "dtype: int64"
      ]
     },
     "execution_count": 7,
     "metadata": {},
     "output_type": "execute_result"
    }
   ],
   "source": [
    "seq_data[seq_data['target'] >= .5].count()"
   ]
  },
  {
   "cell_type": "code",
   "execution_count": 8,
   "metadata": {},
   "outputs": [],
   "source": [
    "datamodule = AEDataModule(\n",
    "        None,\n",
    "        seq_data,\n",
    "        cfg_preprop['user_column'],\n",
    "        cfg_preprop['mcc_column'],\n",
    "        cfg_preprop['transaction_amt_column'],\n",
    "        cfg_model['data_split']['val_size'],\n",
    "        1,\n",
    "        cfg_preprop['preproc']['len_max'],\n",
    "        4,\n",
    "        .5,\n",
    "        False,\n",
    "        binarize=False\n",
    "    )"
   ]
  },
  {
   "cell_type": "code",
   "execution_count": 9,
   "metadata": {},
   "outputs": [],
   "source": [
    "datamodule.setup('test')\n",
    "dataloader = datamodule.test_dataloader()"
   ]
  },
  {
   "cell_type": "code",
   "execution_count": 10,
   "metadata": {},
   "outputs": [],
   "source": [
    "best_model = LSTMAE.load_from_checkpoint(BEST_MODEL_PATH)"
   ]
  },
  {
   "attachments": {},
   "cell_type": "markdown",
   "metadata": {},
   "source": [
    "-------------"
   ]
  },
  {
   "cell_type": "code",
   "execution_count": 46,
   "metadata": {},
   "outputs": [],
   "source": [
    "test_batch = next(iter(dataloader))"
   ]
  },
  {
   "cell_type": "code",
   "execution_count": 67,
   "metadata": {},
   "outputs": [
    {
     "data": {
      "text/plain": [
       "(tensor([1]),\n",
       " tensor([[1, 2, 2, 3, 1, 4, 5, 1, 4, 1, 6, 1, 2, 1, 4, 4, 1, 2, 7, 1, 4]]),\n",
       " tensor([[0., 0., 0., 0., 0., 0., 0., 0., 0., 0., 0., 0., 0., 0., 0., 0., 0., 0., 0., 0., 0.]]),\n",
       " tensor([[5.8891, 4.9223, 4.9334, 5.7349, 4.8939, 4.1497, 7.4026, 7.3118, 5.1768,\n",
       "          4.5548, 6.3328, 5.2975, 6.1319, 4.7295, 5.1310, 3.5500, 5.2789, 4.5874,\n",
       "          5.0824, 6.0758, 4.0711]]),\n",
       " tensor([21]),\n",
       " tensor([0.]))"
      ]
     },
     "execution_count": 67,
     "metadata": {},
     "output_type": "execute_result"
    }
   ],
   "source": [
    "test_batch"
   ]
  },
  {
   "cell_type": "code",
   "execution_count": 68,
   "metadata": {},
   "outputs": [],
   "source": [
    "with torch.no_grad():\n",
    "    _, _, info = best_model.predict_step(test_batch, 0)"
   ]
  },
  {
   "cell_type": "code",
   "execution_count": 69,
   "metadata": {},
   "outputs": [
    {
     "data": {
      "text/plain": [
       "tensor([[5.8609, 4.9555, 0.7119, 5.4433, 4.8978, 4.1767, 7.4336, 7.2663, 5.1698,\n",
       "         0.7067, 6.0255, 5.3516, 6.1490, 4.7147, 5.1335, 0.6384, 5.1024, 4.6248,\n",
       "         5.0834, 6.1425, 4.0124]])"
      ]
     },
     "execution_count": 69,
     "metadata": {},
     "output_type": "execute_result"
    }
   ],
   "source": [
    "info[2]"
   ]
  },
  {
   "cell_type": "code",
   "execution_count": 70,
   "metadata": {},
   "outputs": [
    {
     "data": {
      "text/plain": [
       "torch.return_types.max(\n",
       "values=tensor([[14.8715,  3.7612,  7.3432, 19.7937, 14.8605, 18.2636, 14.8708, 14.3482,\n",
       "         18.2059,  7.4421, 17.5200, 15.0593,  5.0954, 14.7252, 18.2288,  7.0350,\n",
       "         14.4666,  4.7825,  9.9341, 14.6572, 18.6908]]),\n",
       "indices=tensor([[ 1,  2,  6,  3,  1,  4,  5,  1,  4, 45,  6,  1,  2,  1,  4, 45,  1,  2,\n",
       "          7,  1,  4]]))"
      ]
     },
     "execution_count": 70,
     "metadata": {},
     "output_type": "execute_result"
    }
   ],
   "source": [
    "info[0].max(dim=1)"
   ]
  },
  {
   "attachments": {},
   "cell_type": "markdown",
   "metadata": {},
   "source": [
    "----------------"
   ]
  },
  {
   "cell_type": "code",
   "execution_count": 11,
   "metadata": {},
   "outputs": [
    {
     "data": {
      "application/vnd.jupyter.widget-view+json": {
       "model_id": "f15fb8db395c4157a774a81b457860a3",
       "version_major": 2,
       "version_minor": 0
      },
      "text/plain": [
       "  0%|          | 0/777435 [00:00<?, ?it/s]"
      ]
     },
     "metadata": {},
     "output_type": "display_data"
    }
   ],
   "source": [
    "if not os.path.exists('data/new_data/results/'):\n",
    "    os.mkdir('data/new_data/results/')\n",
    "\n",
    "if not os.path.exists(\n",
    "    f'data/new_data/results/model_new_{BEST_MODEL_PATH.split(\"/\")[-1].split(\".\")[0]}.npy'\n",
    "):\n",
    "    results = np.zeros((len(dataloader), 5), dtype=np.float32)\n",
    "\n",
    "    with torch.no_grad():\n",
    "        for i, batch in tqdm(enumerate(dataloader), total=len(dataloader)):\n",
    "            outputs = best_model.predict_step(batch, i)\n",
    "            results[i, 0] = batch[-1].cpu().numpy()\n",
    "            results[i, 1] = outputs[0].cpu().numpy()\n",
    "            results[i, 2:] = np.array(outputs[1])\n",
    "    np.save(\n",
    "        f'data/new_data/results/model_new_{BEST_MODEL_PATH.split(\"/\")[-1].split(\".\")[0]}',\n",
    "        results\n",
    "    )\n",
    "else:\n",
    "    results = np.load(\n",
    "        f'data/new_data/results/model_new_{BEST_MODEL_PATH.split(\"/\")[-1].split(\".\")[0]}.npy'\n",
    "    )\n"
   ]
  },
  {
   "cell_type": "code",
   "execution_count": 12,
   "metadata": {},
   "outputs": [],
   "source": [
    "results = np.concatenate((seq_data.index.values[:, np.newaxis], results), 1)"
   ]
  },
  {
   "cell_type": "code",
   "execution_count": 13,
   "metadata": {},
   "outputs": [
    {
     "data": {
      "text/plain": [
       "array([[0.00000000e+00, 0.00000000e+00, 2.17070270e+00, 1.07733941e+00,\n",
       "        4.28988459e-03, 6.64374888e-01],\n",
       "       [1.00000000e+00, 0.00000000e+00, 4.01107359e+00, 1.75655603e+00,\n",
       "        1.12047326e-02, 1.13404429e+00],\n",
       "       [2.00000000e+00, 4.54545468e-02, 2.09774303e+01, 2.14083791e+00,\n",
       "        1.72832936e-01, 1.55329943e+00],\n",
       "       ...,\n",
       "       [7.96112000e+05, 0.00000000e+00, 8.56700540e-01, 3.92832041e-01,\n",
       "        7.48117804e-04, 3.89056742e-01],\n",
       "       [7.96113000e+05, 0.00000000e+00, 6.42968953e-01, 3.94461423e-01,\n",
       "        8.69399926e-04, 1.61567524e-01],\n",
       "       [7.96114000e+05, 0.00000000e+00, 1.32107043e+00, 8.72306705e-01,\n",
       "        1.08773855e-03, 3.39989871e-01]])"
      ]
     },
     "execution_count": 13,
     "metadata": {},
     "output_type": "execute_result"
    }
   ],
   "source": [
    "results"
   ]
  },
  {
   "cell_type": "code",
   "execution_count": 14,
   "metadata": {},
   "outputs": [],
   "source": [
    "anomaly_fraq = np.unique(results[:, 1])"
   ]
  },
  {
   "cell_type": "code",
   "execution_count": 15,
   "metadata": {},
   "outputs": [
    {
     "data": {
      "application/vnd.jupyter.widget-view+json": {
       "model_id": "7530e817cc20499293bad98e6771c2db",
       "version_major": 2,
       "version_minor": 0
      },
      "text/plain": [
       "  0%|          | 0/636 [00:00<?, ?it/s]"
      ]
     },
     "metadata": {},
     "output_type": "display_data"
    }
   ],
   "source": [
    "losses = []\n",
    "for fraq in tqdm(anomaly_fraq):\n",
    "    losses.append(results[np.argwhere(results[:, 1] == fraq)][:, 0, :])"
   ]
  },
  {
   "cell_type": "code",
   "execution_count": 16,
   "metadata": {},
   "outputs": [],
   "source": [
    "losses = np.concatenate(losses)\n",
    "losses_df = pd.DataFrame(losses, columns=['seq_id', 'anomaly_fraq', 'loss', 'mcc_loss', 'binary_loss', 'amt_loss'])"
   ]
  },
  {
   "cell_type": "code",
   "execution_count": 17,
   "metadata": {},
   "outputs": [],
   "source": [
    "losses_df['seq_id'] = losses_df['seq_id'].astype(np.int32)\n",
    "losses_df.set_index('seq_id', inplace=True)"
   ]
  },
  {
   "cell_type": "code",
   "execution_count": 18,
   "metadata": {},
   "outputs": [],
   "source": [
    "losses_df['loss_sum'] = losses_df['mcc_loss'] + losses_df['binary_loss'] + losses_df['amt_loss']"
   ]
  },
  {
   "cell_type": "code",
   "execution_count": 19,
   "metadata": {},
   "outputs": [],
   "source": [
    "def make_groups(fraq):\n",
    "    if fraq < .2:\n",
    "        return 0\n",
    "    elif .2 <= fraq < .5:\n",
    "        return 1\n",
    "    elif .5 <= fraq < .7:\n",
    "        return 2\n",
    "    else:\n",
    "        return 3\n",
    "    \n",
    "losses_df['class'] = losses_df['anomaly_fraq'].apply(make_groups)"
   ]
  },
  {
   "cell_type": "code",
   "execution_count": 20,
   "metadata": {},
   "outputs": [],
   "source": [
    "agg_df = pd.DataFrame(losses_df.groupby('anomaly_fraq').agg({\n",
    "    'loss': ['mean', 'std'],\n",
    "    'mcc_loss': ['mean', 'std'],\n",
    "    'binary_loss': ['mean', 'std'],\n",
    "    'amt_loss': ['mean', 'std'],\n",
    "    'loss_sum': ['mean', 'std']\n",
    "}))"
   ]
  },
  {
   "cell_type": "code",
   "execution_count": 21,
   "metadata": {},
   "outputs": [
    {
     "data": {
      "image/png": "[encoded data removed]",
      "text/plain": [
       "<Figure size 640x480 with 1 Axes>"
      ]
     },
     "metadata": {},
     "output_type": "display_data"
    }
   ],
   "source": [
    "plt.plot(agg_df.index, agg_df['loss_sum']['mean']);"
   ]
  },
  {
   "cell_type": "code",
   "execution_count": 22,
   "metadata": {},
   "outputs": [
    {
     "data": {
      "text/plain": [
       "seq_id\n",
       "0         1.746004\n",
       "1         2.901805\n",
       "4         3.018240\n",
       "6         1.820827\n",
       "8         6.621923\n",
       "            ...   \n",
       "322153    4.572298\n",
       "337038    1.212963\n",
       "114185    0.341290\n",
       "369999    3.049701\n",
       "625929    0.423888\n",
       "Name: loss_sum, Length: 777435, dtype: float64"
      ]
     },
     "execution_count": 22,
     "metadata": {},
     "output_type": "execute_result"
    }
   ],
   "source": [
    "losses_df['loss_sum']"
   ]
  },
  {
   "cell_type": "code",
   "execution_count": 23,
   "metadata": {},
   "outputs": [
    {
     "data": {
      "text/plain": [
       "25.46405702084303"
      ]
     },
     "execution_count": 23,
     "metadata": {},
     "output_type": "execute_result"
    }
   ],
   "source": [
    "losses_df[losses_df['anomaly_fraq'] >= .5]['loss_sum'].max()"
   ]
  },
  {
   "cell_type": "code",
   "execution_count": 24,
   "metadata": {},
   "outputs": [],
   "source": [
    "from sklearn.metrics import precision_recall_curve"
   ]
  },
  {
   "cell_type": "code",
   "execution_count": 25,
   "metadata": {},
   "outputs": [],
   "source": [
    "def get_optimum_threshold(y_true, y_pred_proba):\n",
    "    precisions, recalls, trs = precision_recall_curve(\n",
    "        y_true, y_pred_proba\n",
    "    )\n",
    "\n",
    "    f1_scores = 2 * (precisions * recalls) / (precisions + recalls)\n",
    "    print(f1_scores.max())\n",
    "    plt.plot(precisions, recalls)\n",
    "    plt.show()\n",
    "\n",
    "    return trs[np.argmax(f1_scores)]"
   ]
  },
  {
   "cell_type": "code",
   "execution_count": 28,
   "metadata": {},
   "outputs": [],
   "source": [
    "y_true = losses_df['anomaly_fraq'] >= .5"
   ]
  },
  {
   "cell_type": "code",
   "execution_count": 29,
   "metadata": {},
   "outputs": [
    {
     "name": "stdout",
     "output_type": "stream",
     "text": [
      "nan\n"
     ]
    },
    {
     "name": "stderr",
     "output_type": "stream",
     "text": [
      "/tmp/ipykernel_19786/1252276051.py:6: RuntimeWarning: invalid value encountered in divide\n",
      "  f1_scores = 2 * (precisions * recalls) / (precisions + recalls)\n"
     ]
    },
    {
     "data": {
      "image/png": "[encoded data removed]",
      "text/plain": [
       "<Figure size 640x480 with 1 Axes>"
      ]
     },
     "metadata": {},
     "output_type": "display_data"
    },
    {
     "data": {
      "text/plain": [
       "25.75417271256447"
      ]
     },
     "execution_count": 29,
     "metadata": {},
     "output_type": "execute_result"
    }
   ],
   "source": [
    "get_optimum_threshold(y_true, losses_df['loss_sum'].values)"
   ]
  },
  {
   "cell_type": "code",
   "execution_count": 119,
   "metadata": {},
   "outputs": [
    {
     "data": {
      "text/plain": [
       "<BarContainer object of 100 artists>"
      ]
     },
     "execution_count": 119,
     "metadata": {},
     "output_type": "execute_result"
    },
    {
     "data": {
      "image/png": "[encoded data removed]",
      "text/plain": [
       "<Figure size 700x500 with 1 Axes>"
      ]
     },
     "metadata": {},
     "output_type": "display_data"
    }
   ],
   "source": [
    "plt.rcParams.update({'figure.figsize':(7,5), 'figure.dpi':100})\n",
    "\n",
    "# Plot Histogram on x\n",
    "x = losses_df[losses_df['loss'] < .1]['loss']\n",
    "\n",
    "# Get histogram\n",
    "hist, bins = np.histogram(x, bins=100)\n",
    "# hist = hist / np.sum(hist)\n",
    "\n",
    "# Threshold frequency\n",
    "freq = 0 #500\n",
    "\n",
    "# Zero out low values\n",
    "hist[np.where(hist <= freq)] = 0\n",
    "\n",
    "# Plot\n",
    "width = 0.8 * (bins[1] - bins[0])\n",
    "center = (bins[:-1] + bins[1:]) / 2\n",
    "plt.xlim([0, 0.1])\n",
    "#plt.margins(0.05)\n",
    "plt.bar(center, hist, align='center', width=width, color = '#33D860', label='normal', alpha=0.5)"
   ]
  },
  {
   "cell_type": "code",
   "execution_count": 120,
   "metadata": {},
   "outputs": [
    {
     "data": {
      "text/plain": [
       "<Axes: xlabel='loss_sum'>"
      ]
     },
     "execution_count": 120,
     "metadata": {},
     "output_type": "execute_result"
    },
    {
     "data": {
      "image/png": "[encoded data removed]",
      "text/plain": [
       "<Figure size 700x500 with 1 Axes>"
      ]
     },
     "metadata": {},
     "output_type": "display_data"
    }
   ],
   "source": [
    "sns.boxplot(x=losses_df['loss_sum'])"
   ]
  },
  {
   "attachments": {},
   "cell_type": "markdown",
   "metadata": {},
   "source": [
    "Важно! Модель посчитала аномалией набор транзакций с азартными играми (7995 - азартные игры)\n",
    "\n",
    "user_id - 10682\n",
    "\n",
    "seq_index - 228781"
   ]
  },
  {
   "cell_type": "code",
   "execution_count": 162,
   "metadata": {},
   "outputs": [
    {
     "data": {
      "text/html": [
       "<div>\n",
       "<style scoped>\n",
       "    .dataframe tbody tr th:only-of-type {\n",
       "        vertical-align: middle;\n",
       "    }\n",
       "\n",
       "    .dataframe tbody tr th {\n",
       "        vertical-align: top;\n",
       "    }\n",
       "\n",
       "    .dataframe thead th {\n",
       "        text-align: right;\n",
       "    }\n",
       "</style>\n",
       "<table border=\"1\" class=\"dataframe\">\n",
       "  <thead>\n",
       "    <tr style=\"text-align: right;\">\n",
       "      <th></th>\n",
       "      <th>anomaly_fraq</th>\n",
       "      <th>loss</th>\n",
       "      <th>mcc_loss</th>\n",
       "      <th>binary_loss</th>\n",
       "      <th>amt_loss</th>\n",
       "      <th>loss_sum</th>\n",
       "      <th>class</th>\n",
       "    </tr>\n",
       "    <tr>\n",
       "      <th>seq_id</th>\n",
       "      <th></th>\n",
       "      <th></th>\n",
       "      <th></th>\n",
       "      <th></th>\n",
       "      <th></th>\n",
       "      <th></th>\n",
       "      <th></th>\n",
       "    </tr>\n",
       "  </thead>\n",
       "  <tbody>\n",
       "    <tr>\n",
       "      <th>106900</th>\n",
       "      <td>0.0</td>\n",
       "      <td>23.073166</td>\n",
       "      <td>3.290904</td>\n",
       "      <td>0.020689</td>\n",
       "      <td>17.713409</td>\n",
       "      <td>21.025002</td>\n",
       "      <td>0</td>\n",
       "    </tr>\n",
       "    <tr>\n",
       "      <th>114053</th>\n",
       "      <td>0.0</td>\n",
       "      <td>27.821541</td>\n",
       "      <td>3.920145</td>\n",
       "      <td>0.020689</td>\n",
       "      <td>21.832542</td>\n",
       "      <td>25.773376</td>\n",
       "      <td>0</td>\n",
       "    </tr>\n",
       "    <tr>\n",
       "      <th>168182</th>\n",
       "      <td>0.0</td>\n",
       "      <td>24.901468</td>\n",
       "      <td>3.920145</td>\n",
       "      <td>0.020689</td>\n",
       "      <td>18.912470</td>\n",
       "      <td>22.853303</td>\n",
       "      <td>0</td>\n",
       "    </tr>\n",
       "    <tr>\n",
       "      <th>192826</th>\n",
       "      <td>0.0</td>\n",
       "      <td>45.919579</td>\n",
       "      <td>1.038726</td>\n",
       "      <td>0.223977</td>\n",
       "      <td>22.483152</td>\n",
       "      <td>23.745856</td>\n",
       "      <td>0</td>\n",
       "    </tr>\n",
       "    <tr>\n",
       "      <th>257582</th>\n",
       "      <td>0.0</td>\n",
       "      <td>22.851784</td>\n",
       "      <td>7.075835</td>\n",
       "      <td>0.020689</td>\n",
       "      <td>13.707093</td>\n",
       "      <td>20.803617</td>\n",
       "      <td>0</td>\n",
       "    </tr>\n",
       "    <tr>\n",
       "      <th>375812</th>\n",
       "      <td>0.0</td>\n",
       "      <td>53.783756</td>\n",
       "      <td>0.550530</td>\n",
       "      <td>0.331436</td>\n",
       "      <td>20.089630</td>\n",
       "      <td>20.971596</td>\n",
       "      <td>0</td>\n",
       "    </tr>\n",
       "    <tr>\n",
       "      <th>375810</th>\n",
       "      <td>0.5</td>\n",
       "      <td>23.261929</td>\n",
       "      <td>6.309790</td>\n",
       "      <td>0.020701</td>\n",
       "      <td>14.882029</td>\n",
       "      <td>21.212520</td>\n",
       "      <td>2</td>\n",
       "    </tr>\n",
       "    <tr>\n",
       "      <th>233111</th>\n",
       "      <td>1.0</td>\n",
       "      <td>33.193787</td>\n",
       "      <td>6.796909</td>\n",
       "      <td>0.020689</td>\n",
       "      <td>24.328026</td>\n",
       "      <td>31.145624</td>\n",
       "      <td>3</td>\n",
       "    </tr>\n",
       "  </tbody>\n",
       "</table>\n",
       "</div>"
      ],
      "text/plain": [
       "        anomaly_fraq       loss  mcc_loss  binary_loss   amt_loss   loss_sum   \n",
       "seq_id                                                                         \n",
       "106900           0.0  23.073166  3.290904     0.020689  17.713409  21.025002  \\\n",
       "114053           0.0  27.821541  3.920145     0.020689  21.832542  25.773376   \n",
       "168182           0.0  24.901468  3.920145     0.020689  18.912470  22.853303   \n",
       "192826           0.0  45.919579  1.038726     0.223977  22.483152  23.745856   \n",
       "257582           0.0  22.851784  7.075835     0.020689  13.707093  20.803617   \n",
       "375812           0.0  53.783756  0.550530     0.331436  20.089630  20.971596   \n",
       "375810           0.5  23.261929  6.309790     0.020701  14.882029  21.212520   \n",
       "233111           1.0  33.193787  6.796909     0.020689  24.328026  31.145624   \n",
       "\n",
       "        class  \n",
       "seq_id         \n",
       "106900      0  \n",
       "114053      0  \n",
       "168182      0  \n",
       "192826      0  \n",
       "257582      0  \n",
       "375812      0  \n",
       "375810      2  \n",
       "233111      3  "
      ]
     },
     "execution_count": 162,
     "metadata": {},
     "output_type": "execute_result"
    }
   ],
   "source": [
    "losses_df[losses_df['loss_sum'] > 20]"
   ]
  },
  {
   "cell_type": "code",
   "execution_count": 168,
   "metadata": {},
   "outputs": [
    {
     "data": {
      "text/plain": [
       "array([11, 11, 11, 11, 11, 11, 11, 11, 11, 11, 11, 11, 11, 11, 11, 11, 11,\n",
       "       11, 11, 11, 11, 11, 11, 11, 11, 11, 11, 11, 11, 11, 11, 11, 11, 11,\n",
       "       11, 11, 11, 11, 11, 11])"
      ]
     },
     "execution_count": 168,
     "metadata": {},
     "output_type": "execute_result"
    }
   ],
   "source": [
    "seq_data.loc[375812]['mcc_code']"
   ]
  },
  {
   "cell_type": "code",
   "execution_count": 91,
   "metadata": {},
   "outputs": [
    {
     "data": {
      "text/plain": [
       "array([ 22.640741, 109.61357 , 104.53754 ,  46.06033 , 146.29277 ,\n",
       "       906.0762  , 615.7704  ,  42.93056 ,  45.062397,  53.22185 ,\n",
       "       106.4844  ,  49.638184,  41.42833 , 108.79991 ,  43.768253,\n",
       "        91.294975,  26.3708  ,  46.409595,  74.03558 , 299.65143 ,\n",
       "        52.786674,  55.04169 ,  47.810593,  42.436966,  92.17858 ,\n",
       "        92.656   ,  90.42266 ,  45.48023 ,  54.039265,  55.719685,\n",
       "       108.61172 , 108.3005  ,  52.05275 , 104.6088  , 165.3661  ,\n",
       "        94.977066, 443.53137 ,  93.68741 ,  26.717432,  94.710556])"
      ]
     },
     "execution_count": 91,
     "metadata": {},
     "output_type": "execute_result"
    }
   ],
   "source": [
    "np.exp(seq_data.iloc[228781]['transaction_amt'])"
   ]
  },
  {
   "cell_type": "code",
   "execution_count": 169,
   "metadata": {},
   "outputs": [],
   "source": [
    "with open('data/new_data/preprocessed/mcc2id.dict', 'rb') as f:\n",
    "    with open('data/new_data/preprocessed/user2id.dict', 'rb') as f_1:\n",
    "        mcc2id = dict(pickle.loads(f.read()))\n",
    "        user2id = dict(pickle.loads(f_1.read()))"
   ]
  },
  {
   "cell_type": "code",
   "execution_count": 170,
   "metadata": {},
   "outputs": [],
   "source": [
    "id2mcc = {}\n",
    "id2user = {}\n",
    "for k, v in mcc2id.items():\n",
    "    id2mcc[v] = k\n",
    "for k, v in user2id.items():\n",
    "    id2user[v] = k"
   ]
  },
  {
   "cell_type": "code",
   "execution_count": 171,
   "metadata": {},
   "outputs": [
    {
     "data": {
      "text/plain": [
       "6011"
      ]
     },
     "execution_count": 171,
     "metadata": {},
     "output_type": "execute_result"
    }
   ],
   "source": [
    "id2mcc[11]"
   ]
  },
  {
   "cell_type": "code",
   "execution_count": 92,
   "metadata": {},
   "outputs": [
    {
     "data": {
      "text/html": [
       "<div>\n",
       "<style scoped>\n",
       "    .dataframe tbody tr th:only-of-type {\n",
       "        vertical-align: middle;\n",
       "    }\n",
       "\n",
       "    .dataframe tbody tr th {\n",
       "        vertical-align: top;\n",
       "    }\n",
       "\n",
       "    .dataframe thead th {\n",
       "        text-align: right;\n",
       "    }\n",
       "</style>\n",
       "<table border=\"1\" class=\"dataframe\">\n",
       "  <thead>\n",
       "    <tr style=\"text-align: right;\">\n",
       "      <th></th>\n",
       "      <th>anomaly_fraq</th>\n",
       "      <th>loss</th>\n",
       "      <th>mcc_loss</th>\n",
       "      <th>binary_loss</th>\n",
       "      <th>amt_loss</th>\n",
       "      <th>class</th>\n",
       "    </tr>\n",
       "  </thead>\n",
       "  <tbody>\n",
       "    <tr>\n",
       "      <th>27003</th>\n",
       "      <td>0.000</td>\n",
       "      <td>2.301008</td>\n",
       "      <td>1.652921</td>\n",
       "      <td>1.368638e-06</td>\n",
       "      <td>0.647950</td>\n",
       "      <td>0</td>\n",
       "    </tr>\n",
       "    <tr>\n",
       "      <th>152523</th>\n",
       "      <td>0.000</td>\n",
       "      <td>1.026022</td>\n",
       "      <td>1.024961</td>\n",
       "      <td>8.510493e-08</td>\n",
       "      <td>0.001053</td>\n",
       "      <td>0</td>\n",
       "    </tr>\n",
       "    <tr>\n",
       "      <th>190996</th>\n",
       "      <td>0.000</td>\n",
       "      <td>1.750069</td>\n",
       "      <td>0.000349</td>\n",
       "      <td>1.661448e-02</td>\n",
       "      <td>0.088273</td>\n",
       "      <td>0</td>\n",
       "    </tr>\n",
       "    <tr>\n",
       "      <th>228781</th>\n",
       "      <td>0.000</td>\n",
       "      <td>8.238477</td>\n",
       "      <td>0.000121</td>\n",
       "      <td>8.231580e-02</td>\n",
       "      <td>0.006775</td>\n",
       "      <td>0</td>\n",
       "    </tr>\n",
       "    <tr>\n",
       "      <th>336094</th>\n",
       "      <td>0.000</td>\n",
       "      <td>1.584863</td>\n",
       "      <td>1.581835</td>\n",
       "      <td>1.119445e-06</td>\n",
       "      <td>0.002917</td>\n",
       "      <td>0</td>\n",
       "    </tr>\n",
       "    <tr>\n",
       "      <th>463958</th>\n",
       "      <td>0.075</td>\n",
       "      <td>1.010901</td>\n",
       "      <td>0.997991</td>\n",
       "      <td>1.396667e-06</td>\n",
       "      <td>0.012770</td>\n",
       "      <td>0</td>\n",
       "    </tr>\n",
       "    <tr>\n",
       "      <th>472099</th>\n",
       "      <td>0.100</td>\n",
       "      <td>1.370712</td>\n",
       "      <td>1.360427</td>\n",
       "      <td>1.221470e-06</td>\n",
       "      <td>0.010163</td>\n",
       "      <td>0</td>\n",
       "    </tr>\n",
       "  </tbody>\n",
       "</table>\n",
       "</div>"
      ],
      "text/plain": [
       "        anomaly_fraq      loss  mcc_loss   binary_loss  amt_loss  class\n",
       "27003          0.000  2.301008  1.652921  1.368638e-06  0.647950      0\n",
       "152523         0.000  1.026022  1.024961  8.510493e-08  0.001053      0\n",
       "190996         0.000  1.750069  0.000349  1.661448e-02  0.088273      0\n",
       "228781         0.000  8.238477  0.000121  8.231580e-02  0.006775      0\n",
       "336094         0.000  1.584863  1.581835  1.119445e-06  0.002917      0\n",
       "463958         0.075  1.010901  0.997991  1.396667e-06  0.012770      0\n",
       "472099         0.100  1.370712  1.360427  1.221470e-06  0.010163      0"
      ]
     },
     "execution_count": 92,
     "metadata": {},
     "output_type": "execute_result"
    }
   ],
   "source": [
    "losses_df[losses_df['loss'] > 1]"
   ]
  },
  {
   "cell_type": "code",
   "execution_count": 105,
   "metadata": {},
   "outputs": [
    {
     "data": {
      "text/plain": [
       "array([ 4, 27,  4, 17, 11, 11,  1,  1,  1,  4,  4,  4, 29, 27, 10,  1,  4,\n",
       "        3,  1, 27, 79,  4,  4, 45, 45,  1,  1, 83, 20, 10,  9,  9, 83,  4,\n",
       "        4, 10,  4,  4,  1, 10])"
      ]
     },
     "execution_count": 105,
     "metadata": {},
     "output_type": "execute_result"
    }
   ],
   "source": [
    "seq_data.iloc[152523]['mcc_code']"
   ]
  },
  {
   "cell_type": "code",
   "execution_count": 106,
   "metadata": {},
   "outputs": [
    {
     "data": {
      "text/plain": [
       "array([  105.706215,   453.6131  ,   637.0809  ,  2113.6567  ,\n",
       "        3734.1477  ,  5319.124   ,   577.4285  ,   452.62314 ,\n",
       "        1194.3778  ,    45.360874,   177.24718 ,    93.19953 ,\n",
       "        2469.5986  ,   827.13464 ,   207.84126 ,   937.9837  ,\n",
       "         106.322   , 14444.672   ,   669.1018  ,   465.40512 ,\n",
       "         848.62244 ,    92.386734,   172.4608  ,    18.137623,\n",
       "         397.60193 ,   514.62616 ,   627.13965 ,  2120.0928  ,\n",
       "        1160.5157  ,   179.77898 ,   105.38092 ,   789.8764  ,\n",
       "         741.5316  ,   512.9007  ,    89.932335,    74.01915 ,\n",
       "         108.026276,   108.19927 ,   787.0158  ,   214.07022 ])"
      ]
     },
     "execution_count": 106,
     "metadata": {},
     "output_type": "execute_result"
    }
   ],
   "source": [
    "np.exp(seq_data.iloc[152523]['transaction_amt'])"
   ]
  },
  {
   "cell_type": "code",
   "execution_count": 107,
   "metadata": {},
   "outputs": [
    {
     "data": {
      "text/plain": [
       "4121"
      ]
     },
     "execution_count": 107,
     "metadata": {},
     "output_type": "execute_result"
    }
   ],
   "source": [
    "id2mcc[45]"
   ]
  },
  {
   "cell_type": "code",
   "execution_count": 79,
   "metadata": {},
   "outputs": [],
   "source": [
    "orig_df = pd.read_parquet('data/new_data/transactions.parquet')"
   ]
  },
  {
   "cell_type": "code",
   "execution_count": 88,
   "metadata": {},
   "outputs": [
    {
     "data": {
      "text/html": [
       "<div>\n",
       "<style scoped>\n",
       "    .dataframe tbody tr th:only-of-type {\n",
       "        vertical-align: middle;\n",
       "    }\n",
       "\n",
       "    .dataframe tbody tr th {\n",
       "        vertical-align: top;\n",
       "    }\n",
       "\n",
       "    .dataframe thead th {\n",
       "        text-align: right;\n",
       "    }\n",
       "</style>\n",
       "<table border=\"1\" class=\"dataframe\">\n",
       "  <thead>\n",
       "    <tr style=\"text-align: right;\">\n",
       "      <th></th>\n",
       "      <th>user_id</th>\n",
       "      <th>mcc_code</th>\n",
       "      <th>currency_rk</th>\n",
       "      <th>transaction_amt</th>\n",
       "      <th>transaction_dttm</th>\n",
       "    </tr>\n",
       "  </thead>\n",
       "  <tbody>\n",
       "    <tr>\n",
       "      <th>9427255</th>\n",
       "      <td>782283ce1b594f618f8424fe25500c85</td>\n",
       "      <td>7995</td>\n",
       "      <td>48</td>\n",
       "      <td>-40.205284</td>\n",
       "      <td>2020-07-31 06:38:43</td>\n",
       "    </tr>\n",
       "    <tr>\n",
       "      <th>9427258</th>\n",
       "      <td>782283ce1b594f618f8424fe25500c85</td>\n",
       "      <td>7995</td>\n",
       "      <td>48</td>\n",
       "      <td>-36.907352</td>\n",
       "      <td>2020-08-01 06:45:14</td>\n",
       "    </tr>\n",
       "    <tr>\n",
       "      <th>9427259</th>\n",
       "      <td>782283ce1b594f618f8424fe25500c85</td>\n",
       "      <td>7995</td>\n",
       "      <td>48</td>\n",
       "      <td>-47.200695</td>\n",
       "      <td>2020-08-01 06:53:42</td>\n",
       "    </tr>\n",
       "    <tr>\n",
       "      <th>9427260</th>\n",
       "      <td>782283ce1b594f618f8424fe25500c85</td>\n",
       "      <td>7995</td>\n",
       "      <td>48</td>\n",
       "      <td>-36.507774</td>\n",
       "      <td>2020-08-01 07:27:25</td>\n",
       "    </tr>\n",
       "    <tr>\n",
       "      <th>9427262</th>\n",
       "      <td>782283ce1b594f618f8424fe25500c85</td>\n",
       "      <td>7995</td>\n",
       "      <td>48</td>\n",
       "      <td>-37.392696</td>\n",
       "      <td>2020-08-01 09:21:51</td>\n",
       "    </tr>\n",
       "    <tr>\n",
       "      <th>...</th>\n",
       "      <td>...</td>\n",
       "      <td>...</td>\n",
       "      <td>...</td>\n",
       "      <td>...</td>\n",
       "      <td>...</td>\n",
       "    </tr>\n",
       "    <tr>\n",
       "      <th>9428296</th>\n",
       "      <td>782283ce1b594f618f8424fe25500c85</td>\n",
       "      <td>7995</td>\n",
       "      <td>48</td>\n",
       "      <td>-90.043236</td>\n",
       "      <td>2021-01-24 03:22:03</td>\n",
       "    </tr>\n",
       "    <tr>\n",
       "      <th>9428297</th>\n",
       "      <td>782283ce1b594f618f8424fe25500c85</td>\n",
       "      <td>7995</td>\n",
       "      <td>48</td>\n",
       "      <td>-211.213870</td>\n",
       "      <td>2021-01-24 04:40:14</td>\n",
       "    </tr>\n",
       "    <tr>\n",
       "      <th>9428303</th>\n",
       "      <td>782283ce1b594f618f8424fe25500c85</td>\n",
       "      <td>7995</td>\n",
       "      <td>48</td>\n",
       "      <td>-22.310303</td>\n",
       "      <td>2021-01-26 14:16:54</td>\n",
       "    </tr>\n",
       "    <tr>\n",
       "      <th>9428304</th>\n",
       "      <td>782283ce1b594f618f8424fe25500c85</td>\n",
       "      <td>7995</td>\n",
       "      <td>48</td>\n",
       "      <td>-107.449690</td>\n",
       "      <td>2021-01-26 15:33:23</td>\n",
       "    </tr>\n",
       "    <tr>\n",
       "      <th>9428306</th>\n",
       "      <td>782283ce1b594f618f8424fe25500c85</td>\n",
       "      <td>7995</td>\n",
       "      <td>48</td>\n",
       "      <td>-108.306250</td>\n",
       "      <td>2021-01-27 15:28:03</td>\n",
       "    </tr>\n",
       "  </tbody>\n",
       "</table>\n",
       "<p>614 rows × 5 columns</p>\n",
       "</div>"
      ],
      "text/plain": [
       "                                  user_id  mcc_code  currency_rk   \n",
       "9427255  782283ce1b594f618f8424fe25500c85      7995           48  \\\n",
       "9427258  782283ce1b594f618f8424fe25500c85      7995           48   \n",
       "9427259  782283ce1b594f618f8424fe25500c85      7995           48   \n",
       "9427260  782283ce1b594f618f8424fe25500c85      7995           48   \n",
       "9427262  782283ce1b594f618f8424fe25500c85      7995           48   \n",
       "...                                   ...       ...          ...   \n",
       "9428296  782283ce1b594f618f8424fe25500c85      7995           48   \n",
       "9428297  782283ce1b594f618f8424fe25500c85      7995           48   \n",
       "9428303  782283ce1b594f618f8424fe25500c85      7995           48   \n",
       "9428304  782283ce1b594f618f8424fe25500c85      7995           48   \n",
       "9428306  782283ce1b594f618f8424fe25500c85      7995           48   \n",
       "\n",
       "         transaction_amt     transaction_dttm  \n",
       "9427255       -40.205284  2020-07-31 06:38:43  \n",
       "9427258       -36.907352  2020-08-01 06:45:14  \n",
       "9427259       -47.200695  2020-08-01 06:53:42  \n",
       "9427260       -36.507774  2020-08-01 07:27:25  \n",
       "9427262       -37.392696  2020-08-01 09:21:51  \n",
       "...                  ...                  ...  \n",
       "9428296       -90.043236  2021-01-24 03:22:03  \n",
       "9428297      -211.213870  2021-01-24 04:40:14  \n",
       "9428303       -22.310303  2021-01-26 14:16:54  \n",
       "9428304      -107.449690  2021-01-26 15:33:23  \n",
       "9428306      -108.306250  2021-01-27 15:28:03  \n",
       "\n",
       "[614 rows x 5 columns]"
      ]
     },
     "execution_count": 88,
     "metadata": {},
     "output_type": "execute_result"
    }
   ],
   "source": [
    "orig_df[(orig_df['user_id'] == id2user[10682]) & (orig_df['mcc_code'] == 7995)]"
   ]
  },
  {
   "cell_type": "code",
   "execution_count": null,
   "metadata": {},
   "outputs": [],
   "source": []
  },
  {
   "cell_type": "code",
   "execution_count": null,
   "metadata": {},
   "outputs": [],
   "source": []
  },
  {
   "cell_type": "code",
   "execution_count": null,
   "metadata": {},
   "outputs": [],
   "source": []
  },
  {
   "cell_type": "code",
   "execution_count": null,
   "metadata": {},
   "outputs": [],
   "source": []
  }
 ],
 "metadata": {
  "kernelspec": {
   "display_name": "base",
   "language": "python",
   "name": "python3"
  },
  "language_info": {
   "codemirror_mode": {
    "name": "ipython",
    "version": 3
   },
   "file_extension": ".py",
   "mimetype": "text/x-python",
   "name": "python",
   "nbconvert_exporter": "python",
   "pygments_lexer": "ipython3",
   "version": "3.9.16"
  },
  "orig_nbformat": 4
 },
 "nbformat": 4,
 "nbformat_minor": 2
}
