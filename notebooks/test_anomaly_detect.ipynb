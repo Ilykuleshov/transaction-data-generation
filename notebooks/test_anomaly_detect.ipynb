{
 "cells": [
  {
   "cell_type": "code",
   "execution_count": 2,
   "metadata": {},
   "outputs": [],
   "source": [
    "import os, sys\n",
    "dir2 = os.path.abspath('')\n",
    "dir1 = os.path.dirname(dir2)\n",
    "if not dir1 in sys.path: sys.path.append(dir1)"
   ]
  },
  {
   "cell_type": "code",
   "execution_count": 3,
   "metadata": {},
   "outputs": [],
   "source": [
    "os.chdir('..')"
   ]
  },
  {
   "cell_type": "code",
   "execution_count": 4,
   "metadata": {},
   "outputs": [],
   "source": [
    "import pickle\n",
    "\n",
    "from hydra import compose, initialize\n",
    "from omegaconf import OmegaConf\n",
    "\n",
    "import numpy as np\n",
    "import pandas as pd\n",
    "\n",
    "import matplotlib.pyplot as plt\n",
    "import seaborn as sns\n",
    "\n",
    "import torch\n",
    "\n",
    "from tqdm.notebook import tqdm\n",
    "\n",
    "from src.preprocessing import preprocessing\n",
    "from src.datamodules.autoencoder import AEDataModule\n",
    "from src.networks.lstm import LSTMAE\n",
    "\n",
    "%load_ext autoreload\n",
    "%autoreload 2"
   ]
  },
  {
   "cell_type": "code",
   "execution_count": 5,
   "metadata": {},
   "outputs": [],
   "source": [
    "BEST_MODEL_PATH = 'logs/lstm/checkpoints/lstm__embed_dim64_num_layers_1.ckpt'"
   ]
  },
  {
   "cell_type": "code",
   "execution_count": 11,
   "metadata": {},
   "outputs": [],
   "source": [
    "with initialize(config_path='../config', version_base=None):\n",
    "    cfg = compose(config_name='config')\n",
    "cfg_preprop = cfg['dataset']\n",
    "cfg_model = cfg['autoencoder']"
   ]
  },
  {
   "cell_type": "code",
   "execution_count": 14,
   "metadata": {},
   "outputs": [],
   "source": [
    "seq_data, data_srt = preprocessing(cfg_preprop['name'])(cfg_preprop, return_preproc=True)"
   ]
  },
  {
   "cell_type": "code",
   "execution_count": 25,
   "metadata": {},
   "outputs": [],
   "source": [
    "seq_data = pd.read_parquet('data/new_data/old_preprop/agg_dataset.parquet')"
   ]
  },
  {
   "cell_type": "code",
   "execution_count": 26,
   "metadata": {},
   "outputs": [],
   "source": [
    "datamodule = AEDataModule(\n",
    "        None,\n",
    "        seq_data,\n",
    "        cfg_preprop['user_column'],\n",
    "        cfg_preprop['mcc_column'],\n",
    "        cfg_preprop['transaction_amt_column'],\n",
    "        cfg_model['data_split']['val_size'],\n",
    "        1,\n",
    "        cfg_preprop['preproc']['len_max'],\n",
    "        4,\n",
    "        .5,\n",
    "        False,\n",
    "        binarize=False\n",
    "    )"
   ]
  },
  {
   "cell_type": "code",
   "execution_count": 27,
   "metadata": {},
   "outputs": [],
   "source": [
    "datamodule.setup('test')\n",
    "dataloader = datamodule.test_dataloader()"
   ]
  },
  {
   "cell_type": "code",
   "execution_count": 21,
   "metadata": {},
   "outputs": [
    {
     "ename": "TypeError",
     "evalue": "'NoneType' object is not subscriptable",
     "output_type": "error",
     "traceback": [
      "\u001b[0;31m---------------------------------------------------------------------------\u001b[0m",
      "\u001b[0;31mTypeError\u001b[0m                                 Traceback (most recent call last)",
      "Cell \u001b[0;32mIn[21], line 1\u001b[0m\n\u001b[0;32m----> 1\u001b[0m best_model \u001b[39m=\u001b[39m LSTMAE\u001b[39m.\u001b[39;49mload_from_checkpoint(BEST_MODEL_PATH,\n\u001b[1;32m      2\u001b[0m                                          use_user_embedding\u001b[39m=\u001b[39;49m\u001b[39mNone\u001b[39;49;00m,\n\u001b[1;32m      3\u001b[0m                                          user_embedding_size\u001b[39m=\u001b[39;49m\u001b[39mNone\u001b[39;49;00m,\n\u001b[1;32m      4\u001b[0m                                          use_masked_prediction\u001b[39m=\u001b[39;49m\u001b[39mNone\u001b[39;49;00m,\n\u001b[1;32m      5\u001b[0m                                          rand_rate\u001b[39m=\u001b[39;49m\u001b[39mNone\u001b[39;49;00m,\n\u001b[1;32m      6\u001b[0m                                          mask_token\u001b[39m=\u001b[39;49m\u001b[39mNone\u001b[39;49;00m,\n\u001b[1;32m      7\u001b[0m                                          core_ae\u001b[39m=\u001b[39;49m\u001b[39mNone\u001b[39;49;00m)\n",
      "File \u001b[0;32m~/miniconda/envs/base2/lib/python3.9/site-packages/pytorch_lightning/core/saving.py:161\u001b[0m, in \u001b[0;36mModelIO.load_from_checkpoint\u001b[0;34m(cls, checkpoint_path, map_location, hparams_file, strict, **kwargs)\u001b[0m\n\u001b[1;32m    158\u001b[0m \u001b[39m# override the hparams with values that were passed in\u001b[39;00m\n\u001b[1;32m    159\u001b[0m checkpoint[\u001b[39mcls\u001b[39m\u001b[39m.\u001b[39mCHECKPOINT_HYPER_PARAMS_KEY]\u001b[39m.\u001b[39mupdate(kwargs)\n\u001b[0;32m--> 161\u001b[0m model \u001b[39m=\u001b[39m \u001b[39mcls\u001b[39;49m\u001b[39m.\u001b[39;49m_load_model_state(checkpoint, strict\u001b[39m=\u001b[39;49mstrict, \u001b[39m*\u001b[39;49m\u001b[39m*\u001b[39;49mkwargs)\n\u001b[1;32m    162\u001b[0m \u001b[39mreturn\u001b[39;00m model\n",
      "File \u001b[0;32m~/miniconda/envs/base2/lib/python3.9/site-packages/pytorch_lightning/core/saving.py:203\u001b[0m, in \u001b[0;36mModelIO._load_model_state\u001b[0;34m(cls, checkpoint, strict, **cls_kwargs_new)\u001b[0m\n\u001b[1;32m    199\u001b[0m \u001b[39mif\u001b[39;00m \u001b[39mnot\u001b[39;00m cls_spec\u001b[39m.\u001b[39mvarkw:\n\u001b[1;32m    200\u001b[0m     \u001b[39m# filter kwargs according to class init unless it allows any argument via kwargs\u001b[39;00m\n\u001b[1;32m    201\u001b[0m     _cls_kwargs \u001b[39m=\u001b[39m {k: v \u001b[39mfor\u001b[39;00m k, v \u001b[39min\u001b[39;00m _cls_kwargs\u001b[39m.\u001b[39mitems() \u001b[39mif\u001b[39;00m k \u001b[39min\u001b[39;00m cls_init_args_name}\n\u001b[0;32m--> 203\u001b[0m model \u001b[39m=\u001b[39m \u001b[39mcls\u001b[39;49m(\u001b[39m*\u001b[39;49m\u001b[39m*\u001b[39;49m_cls_kwargs)\n\u001b[1;32m    205\u001b[0m \u001b[39m# give model a chance to load something\u001b[39;00m\n\u001b[1;32m    206\u001b[0m model\u001b[39m.\u001b[39mon_load_checkpoint(checkpoint)\n",
      "File \u001b[0;32m/app/src/networks/lstm/lstm.py:83\u001b[0m, in \u001b[0;36mLSTMAE.__init__\u001b[0;34m(self, mcc_embed_dim, n_vocab_size, embed_dim, num_layers, loss_weights, freeze_embed, unfreeze_after, lr, weight_decay, use_user_embedding, user_embedding_size, use_masked_prediction, rand_rate, mask_token, core_ae, *args, **kwargs)\u001b[0m\n\u001b[1;32m     79\u001b[0m \u001b[39mself\u001b[39m\u001b[39m.\u001b[39mpe \u001b[39m=\u001b[39m PositionalEncoding(mcc_embed_dim)\n\u001b[1;32m     81\u001b[0m \u001b[39mself\u001b[39m\u001b[39m.\u001b[39mae_core: CoreBase \u001b[39m=\u001b[39m instantiate(core_ae, input_size\u001b[39m=\u001b[39mn_features)\n\u001b[0;32m---> 83\u001b[0m \u001b[39mself\u001b[39m\u001b[39m.\u001b[39mout_amount \u001b[39m=\u001b[39m nn\u001b[39m.\u001b[39mLinear(core_ae[\u001b[39m'\u001b[39;49m\u001b[39moutput_size\u001b[39;49m\u001b[39m'\u001b[39;49m], \u001b[39m1\u001b[39m)\n\u001b[1;32m     84\u001b[0m \u001b[39mself\u001b[39m\u001b[39m.\u001b[39mout_binary \u001b[39m=\u001b[39m nn\u001b[39m.\u001b[39mLinear(core_ae[\u001b[39m'\u001b[39m\u001b[39moutput_size\u001b[39m\u001b[39m'\u001b[39m], \u001b[39m1\u001b[39m)\n\u001b[1;32m     85\u001b[0m \u001b[39mself\u001b[39m\u001b[39m.\u001b[39mout_mcc    \u001b[39m=\u001b[39m nn\u001b[39m.\u001b[39mLinear(core_ae[\u001b[39m'\u001b[39m\u001b[39moutput_size\u001b[39m\u001b[39m'\u001b[39m], n_vocab_size \u001b[39m+\u001b[39m \u001b[39m1\u001b[39m)\n",
      "\u001b[0;31mTypeError\u001b[0m: 'NoneType' object is not subscriptable"
     ]
    }
   ],
   "source": [
    "best_model = LSTMAE.load_from_checkpoint(BEST_MODEL_PATH,\n",
    "                                         use_user_embedding=None,\n",
    "                                         user_embedding_size=None,\n",
    "                                         use_masked_prediction=None,\n",
    "                                         rand_rate=None,\n",
    "                                         mask_token=None,\n",
    "                                         core_ae=None)"
   ]
  },
  {
   "attachments": {},
   "cell_type": "markdown",
   "metadata": {},
   "source": [
    "-------------"
   ]
  },
  {
   "cell_type": "code",
   "execution_count": 15,
   "metadata": {},
   "outputs": [],
   "source": [
    "test_batch = next(iter(dataloader))"
   ]
  },
  {
   "cell_type": "code",
   "execution_count": 16,
   "metadata": {},
   "outputs": [
    {
     "data": {
      "text/plain": [
       "(tensor([1]),\n",
       " tensor([[1, 2, 3, 4, 4, 5, 4, 6, 4, 1, 5, 4, 7, 2, 1, 4, 8, 1, 2, 2, 1, 1, 1, 2,\n",
       "          2, 3]]),\n",
       " tensor([[0., 1., 0., 0., 0., 0., 0., 0., 0., 0., 0., 0., 0., 0., 0., 0., 1., 0.,\n",
       "          0., 0., 0., 0., 0., 0., 0., 0.]]),\n",
       " tensor([[ 7.7169, 10.9357, 10.9357,  7.2388,  6.8253,  9.5917,  6.9184,  7.9480,\n",
       "           6.4439,  8.6332,  9.5917,  8.1487,  9.9941,  8.4100,  7.0237,  6.4439,\n",
       "          12.3220,  7.7169, 10.7126,  8.4100,  7.7169,  7.7169,  7.7169, 11.8913,\n",
       "          13.7083, 10.0195]]),\n",
       " tensor([26]),\n",
       " tensor([1.]))"
      ]
     },
     "execution_count": 16,
     "metadata": {},
     "output_type": "execute_result"
    }
   ],
   "source": [
    "test_batch"
   ]
  },
  {
   "cell_type": "code",
   "execution_count": 27,
   "metadata": {},
   "outputs": [
    {
     "name": "stdout",
     "output_type": "stream",
     "text": [
      "tensor([[False,  True, False, False, False,  True,  True, False,  True, False,\n",
      "         False, False, False, False,  True, False,  True, False, False,  True,\n",
      "         False]])\n"
     ]
    }
   ],
   "source": [
    "with torch.no_grad():\n",
    "    _, _, info = best_model.predict_step(test_batch, 0)"
   ]
  },
  {
   "cell_type": "code",
   "execution_count": 28,
   "metadata": {},
   "outputs": [
    {
     "data": {
      "text/plain": [
       "tensor([[5.9388, 5.3770, 4.8621, 6.0998, 5.3534, 5.3724, 5.2077, 5.1640, 5.6322,\n",
       "         5.7309, 4.8312, 5.5309, 5.3607, 5.4170, 5.5181, 3.1517, 5.2182, 4.3342,\n",
       "         5.6637, 4.9317, 3.6922]])"
      ]
     },
     "execution_count": 28,
     "metadata": {},
     "output_type": "execute_result"
    }
   ],
   "source": [
    "info[2]"
   ]
  },
  {
   "cell_type": "code",
   "execution_count": 35,
   "metadata": {},
   "outputs": [
    {
     "data": {
      "text/plain": [
       "torch.return_types.max(\n",
       "values=tensor([[ 4.0718,  3.9179, 23.4038, 15.8391, 11.3016, 21.4676,  5.8177, 10.0803,\n",
       "          7.4759,  7.1180,  6.7755,  6.6837,  6.5924,  6.5210,  6.8281,  9.2772,\n",
       "          9.5451,  7.0043, 10.5147, 16.5846, 20.4851]]),\n",
       "indices=tensor([[1, 1, 2, 1, 1, 4, 1, 1, 4, 1, 1, 1, 1, 1, 4, 4, 1, 2, 7, 1, 4]]))"
      ]
     },
     "execution_count": 35,
     "metadata": {},
     "output_type": "execute_result"
    }
   ],
   "source": [
    "info[0].max(dim=1)"
   ]
  },
  {
   "attachments": {},
   "cell_type": "markdown",
   "metadata": {},
   "source": [
    "----------------"
   ]
  },
  {
   "cell_type": "code",
   "execution_count": 28,
   "metadata": {},
   "outputs": [],
   "source": [
    "if not os.path.exists('data/gender_data/results/'):\n",
    "    os.mkdir('data/gender_data/results/')\n",
    "\n",
    "if not os.path.exists(\n",
    "    f'data/new_data/results/model_{BEST_MODEL_PATH.split(\"/\")[-1].split(\".\")[0]}.npy'\n",
    "):\n",
    "    results = np.zeros((len(dataloader), 5), dtype=np.float32)\n",
    "\n",
    "    with torch.no_grad():\n",
    "        for i, batch in tqdm(enumerate(dataloader), total=len(dataloader)):\n",
    "            outputs = best_model.predict_step(batch, i)\n",
    "            results[i, 0] = batch[-1].cpu().numpy()\n",
    "            results[i, 1] = outputs[0].cpu().numpy()\n",
    "            results[i, 2:] = np.array(outputs[1])\n",
    "    np.save(\n",
    "        f'data/new_data/results/model_{BEST_MODEL_PATH.split(\"/\")[-1].split(\".\")[0]}',\n",
    "        results\n",
    "    )\n",
    "else:\n",
    "    results = np.load(\n",
    "        f'data/new_data/results/model_{BEST_MODEL_PATH.split(\"/\")[-1].split(\".\")[0]}.npy'\n",
    "    )\n"
   ]
  },
  {
   "cell_type": "code",
   "execution_count": 29,
   "metadata": {},
   "outputs": [
    {
     "data": {
      "text/plain": [
       "array([[0.0000000e+00, 5.8996287e-04, 7.3414310e-05, 1.9821542e-07,\n",
       "        4.9672701e-04],\n",
       "       [2.5641026e-02, 1.6412984e-03, 1.4189981e-04, 1.1966280e-06,\n",
       "        1.3797358e-03],\n",
       "       [0.0000000e+00, 5.4374192e-04, 6.6896609e-05, 4.9191601e-07,\n",
       "        4.2765372e-04],\n",
       "       ...,\n",
       "       [0.0000000e+00, 2.7134517e-04, 2.2178154e-05, 4.8992728e-08,\n",
       "        2.4426775e-04],\n",
       "       [0.0000000e+00, 2.7532619e-04, 1.5309244e-05, 4.6279162e-08,\n",
       "        2.5538902e-04],\n",
       "       [0.0000000e+00, 6.9053221e-04, 2.2241935e-05, 1.2244726e-07,\n",
       "        6.5604557e-04]], dtype=float32)"
      ]
     },
     "execution_count": 29,
     "metadata": {},
     "output_type": "execute_result"
    }
   ],
   "source": [
    "results"
   ]
  },
  {
   "cell_type": "code",
   "execution_count": 30,
   "metadata": {},
   "outputs": [],
   "source": [
    "results = np.concatenate((seq_data.index.values[:, np.newaxis], results), 1)"
   ]
  },
  {
   "cell_type": "code",
   "execution_count": 31,
   "metadata": {},
   "outputs": [
    {
     "data": {
      "text/plain": [
       "array([[0.00000000e+00, 0.00000000e+00, 5.89962874e-04, 7.34143105e-05,\n",
       "        1.98215417e-07, 4.96727007e-04],\n",
       "       [1.00000000e+00, 2.56410260e-02, 1.64129841e-03, 1.41899814e-04,\n",
       "        1.19662798e-06, 1.37973577e-03],\n",
       "       [2.00000000e+00, 0.00000000e+00, 5.43741917e-04, 6.68966095e-05,\n",
       "        4.91916012e-07, 4.27653722e-04],\n",
       "       ...,\n",
       "       [4.81241000e+05, 0.00000000e+00, 2.71345169e-04, 2.21781538e-05,\n",
       "        4.89927281e-08, 2.44267751e-04],\n",
       "       [4.81242000e+05, 0.00000000e+00, 2.75326194e-04, 1.53092442e-05,\n",
       "        4.62791618e-08, 2.55389023e-04],\n",
       "       [4.81243000e+05, 0.00000000e+00, 6.90532208e-04, 2.22419349e-05,\n",
       "        1.22447261e-07, 6.56045566e-04]])"
      ]
     },
     "execution_count": 31,
     "metadata": {},
     "output_type": "execute_result"
    }
   ],
   "source": [
    "results"
   ]
  },
  {
   "cell_type": "code",
   "execution_count": 32,
   "metadata": {},
   "outputs": [],
   "source": [
    "anomaly_fraq = np.unique(results[:, 1])"
   ]
  },
  {
   "cell_type": "code",
   "execution_count": 33,
   "metadata": {},
   "outputs": [
    {
     "data": {
      "application/vnd.jupyter.widget-view+json": {
       "model_id": "ae4d66a9496e464590a12c7af004242f",
       "version_major": 2,
       "version_minor": 0
      },
      "text/plain": [
       "  0%|          | 0/534 [00:00<?, ?it/s]"
      ]
     },
     "metadata": {},
     "output_type": "display_data"
    }
   ],
   "source": [
    "losses = []\n",
    "for fraq in tqdm(anomaly_fraq):\n",
    "    losses.append(results[np.argwhere(results[:, 1] == fraq)][:, 0, :])"
   ]
  },
  {
   "cell_type": "code",
   "execution_count": 34,
   "metadata": {},
   "outputs": [],
   "source": [
    "losses = np.concatenate(losses)\n",
    "losses_df = pd.DataFrame(losses, columns=['seq_id', 'anomaly_fraq', 'loss', 'mcc_loss', 'binary_loss', 'amt_loss'])"
   ]
  },
  {
   "cell_type": "code",
   "execution_count": 35,
   "metadata": {},
   "outputs": [],
   "source": [
    "losses_df['seq_id'] = losses_df['seq_id'].astype(np.int32)\n",
    "losses_df.set_index('seq_id', inplace=True)"
   ]
  },
  {
   "cell_type": "code",
   "execution_count": 36,
   "metadata": {},
   "outputs": [],
   "source": [
    "losses_df['loss_sum'] = losses_df['mcc_loss'] + losses_df['binary_loss'] + losses_df['amt_loss']"
   ]
  },
  {
   "cell_type": "code",
   "execution_count": 37,
   "metadata": {},
   "outputs": [],
   "source": [
    "def make_groups(fraq):\n",
    "    if fraq < .2:\n",
    "        return 0\n",
    "    elif .2 <= fraq < .5:\n",
    "        return 1\n",
    "    elif .5 <= fraq < .7:\n",
    "        return 2\n",
    "    else:\n",
    "        return 3\n",
    "    \n",
    "losses_df['class'] = losses_df['anomaly_fraq'].apply(make_groups)"
   ]
  },
  {
   "cell_type": "code",
   "execution_count": 38,
   "metadata": {},
   "outputs": [],
   "source": [
    "agg_df = pd.DataFrame(losses_df.groupby('anomaly_fraq').agg({\n",
    "    'loss': ['mean', 'std'],\n",
    "    'mcc_loss': ['mean', 'std'],\n",
    "    'binary_loss': ['mean', 'std'],\n",
    "    'amt_loss': ['mean', 'std'],\n",
    "    'loss_sum': ['mean', 'std']\n",
    "}))"
   ]
  },
  {
   "cell_type": "code",
   "execution_count": 39,
   "metadata": {},
   "outputs": [
    {
     "data": {
      "text/plain": [
       "<Axes: xlabel='loss_sum', ylabel='Count'>"
      ]
     },
     "execution_count": 39,
     "metadata": {},
     "output_type": "execute_result"
    },
    {
     "data": {
      "image/png": "[encoded data removed]",
      "text/plain": [
       "<Figure size 640x480 with 1 Axes>"
      ]
     },
     "metadata": {},
     "output_type": "display_data"
    }
   ],
   "source": [
    "sns.histplot(losses_df[(losses_df['anomaly_fraq'] == 0)]['loss_sum'])\n",
    "sns.histplot(losses_df[(losses_df['anomaly_fraq'] > 0)]['loss_sum'])"
   ]
  },
  {
   "cell_type": "code",
   "execution_count": 55,
   "metadata": {},
   "outputs": [
    {
     "data": {
      "text/plain": [
       "Text(0, 0.5, 'loss')"
      ]
     },
     "execution_count": 55,
     "metadata": {},
     "output_type": "execute_result"
    },
    {
     "data": {
      "image/png": "[encoded data removed]",
      "text/plain": [
       "<Figure size 1200x600 with 1 Axes>"
      ]
     },
     "metadata": {},
     "output_type": "display_data"
    }
   ],
   "source": [
    "plt.figure(figsize=(12, 6))\n",
    "\n",
    "plt.plot(agg_df.index, agg_df['loss_sum']['mean']);\n",
    "plt.title('Inference losses', fontsize=18)\n",
    "plt.xlabel('anomaly fraction', fontsize=10)\n",
    "plt.ylabel('loss', fontsize=10)"
   ]
  },
  {
   "cell_type": "code",
   "execution_count": 41,
   "metadata": {},
   "outputs": [
    {
     "data": {
      "text/plain": [
       "seq_id\n",
       "0         0.000570\n",
       "2         0.000495\n",
       "3         0.001036\n",
       "5         0.001434\n",
       "6         0.001146\n",
       "            ...   \n",
       "146891    0.009563\n",
       "233111    0.060796\n",
       "313794    0.001090\n",
       "330356    0.000262\n",
       "416643    0.000367\n",
       "Name: loss_sum, Length: 481243, dtype: float64"
      ]
     },
     "execution_count": 41,
     "metadata": {},
     "output_type": "execute_result"
    }
   ],
   "source": [
    "losses_df['loss_sum']"
   ]
  },
  {
   "cell_type": "code",
   "execution_count": 42,
   "metadata": {},
   "outputs": [
    {
     "data": {
      "text/plain": [
       "0.18763748678611591"
      ]
     },
     "execution_count": 42,
     "metadata": {},
     "output_type": "execute_result"
    }
   ],
   "source": [
    "losses_df[losses_df['anomaly_fraq'] >= .5]['loss_sum'].max()"
   ]
  },
  {
   "cell_type": "code",
   "execution_count": 43,
   "metadata": {},
   "outputs": [],
   "source": [
    "from sklearn.metrics import precision_recall_curve"
   ]
  },
  {
   "cell_type": "code",
   "execution_count": 44,
   "metadata": {},
   "outputs": [],
   "source": [
    "def get_optimum_threshold(y_true, y_pred_proba):\n",
    "    precisions, recalls, trs = precision_recall_curve(\n",
    "        y_true, y_pred_proba\n",
    "    )\n",
    "\n",
    "    f1_scores = 2 * (precisions * recalls) / (precisions + recalls)\n",
    "    print(f1_scores.max())\n",
    "    plt.plot(precisions, recalls)\n",
    "    plt.show()\n",
    "\n",
    "    return trs[np.argmax(f1_scores)]"
   ]
  },
  {
   "cell_type": "code",
   "execution_count": 45,
   "metadata": {},
   "outputs": [],
   "source": [
    "y_true = losses_df['anomaly_fraq'] >= .5"
   ]
  },
  {
   "cell_type": "code",
   "execution_count": 46,
   "metadata": {},
   "outputs": [
    {
     "name": "stdout",
     "output_type": "stream",
     "text": [
      "nan\n"
     ]
    },
    {
     "name": "stderr",
     "output_type": "stream",
     "text": [
      "/tmp/ipykernel_3182/1252276051.py:6: RuntimeWarning: invalid value encountered in divide\n",
      "  f1_scores = 2 * (precisions * recalls) / (precisions + recalls)\n"
     ]
    },
    {
     "data": {
      "image/png": "[encoded data removed]",
      "text/plain": [
       "<Figure size 640x480 with 1 Axes>"
      ]
     },
     "metadata": {},
     "output_type": "display_data"
    }
   ],
   "source": [
    "tr = get_optimum_threshold(y_true, losses_df['loss_sum'].values)"
   ]
  },
  {
   "cell_type": "code",
   "execution_count": 47,
   "metadata": {},
   "outputs": [
    {
     "data": {
      "text/plain": [
       "<BarContainer object of 100 artists>"
      ]
     },
     "execution_count": 47,
     "metadata": {},
     "output_type": "execute_result"
    },
    {
     "data": {
      "image/png": "[encoded data removed]",
      "text/plain": [
       "<Figure size 700x500 with 1 Axes>"
      ]
     },
     "metadata": {},
     "output_type": "display_data"
    }
   ],
   "source": [
    "plt.rcParams.update({'figure.figsize':(7,5), 'figure.dpi':100})\n",
    "\n",
    "# Plot Histogram on x\n",
    "x = losses_df[losses_df['loss'] < .1]['loss']\n",
    "\n",
    "# Get histogram\n",
    "hist, bins = np.histogram(x, bins=100)\n",
    "# hist = hist / np.sum(hist)\n",
    "\n",
    "# Threshold frequency\n",
    "freq = 0 #500\n",
    "\n",
    "# Zero out low values\n",
    "hist[np.where(hist <= freq)] = 0\n",
    "\n",
    "# Plot\n",
    "width = 0.8 * (bins[1] - bins[0])\n",
    "center = (bins[:-1] + bins[1:]) / 2\n",
    "plt.xlim([0, 0.1])\n",
    "#plt.margins(0.05)\n",
    "plt.bar(center, hist, align='center', width=width, color = '#33D860', label='normal', alpha=0.5)"
   ]
  },
  {
   "cell_type": "code",
   "execution_count": 48,
   "metadata": {},
   "outputs": [
    {
     "data": {
      "text/plain": [
       "<Axes: xlabel='loss_sum'>"
      ]
     },
     "execution_count": 48,
     "metadata": {},
     "output_type": "execute_result"
    },
    {
     "data": {
      "image/png": "[encoded data removed]",
      "text/plain": [
       "<Figure size 700x500 with 1 Axes>"
      ]
     },
     "metadata": {},
     "output_type": "display_data"
    }
   ],
   "source": [
    "sns.boxplot(x=losses_df['loss_sum'])"
   ]
  },
  {
   "attachments": {},
   "cell_type": "markdown",
   "metadata": {},
   "source": [
    "Важно! Модель посчитала аномалией набор транзакций с азартными играми (7995 - азартные игры)\n",
    "\n",
    "user_id - 10682\n",
    "\n",
    "seq_index - 228781"
   ]
  },
  {
   "cell_type": "code",
   "execution_count": 162,
   "metadata": {},
   "outputs": [
    {
     "data": {
      "text/html": [
       "<div>\n",
       "<style scoped>\n",
       "    .dataframe tbody tr th:only-of-type {\n",
       "        vertical-align: middle;\n",
       "    }\n",
       "\n",
       "    .dataframe tbody tr th {\n",
       "        vertical-align: top;\n",
       "    }\n",
       "\n",
       "    .dataframe thead th {\n",
       "        text-align: right;\n",
       "    }\n",
       "</style>\n",
       "<table border=\"1\" class=\"dataframe\">\n",
       "  <thead>\n",
       "    <tr style=\"text-align: right;\">\n",
       "      <th></th>\n",
       "      <th>anomaly_fraq</th>\n",
       "      <th>loss</th>\n",
       "      <th>mcc_loss</th>\n",
       "      <th>binary_loss</th>\n",
       "      <th>amt_loss</th>\n",
       "      <th>loss_sum</th>\n",
       "      <th>class</th>\n",
       "    </tr>\n",
       "    <tr>\n",
       "      <th>seq_id</th>\n",
       "      <th></th>\n",
       "      <th></th>\n",
       "      <th></th>\n",
       "      <th></th>\n",
       "      <th></th>\n",
       "      <th></th>\n",
       "      <th></th>\n",
       "    </tr>\n",
       "  </thead>\n",
       "  <tbody>\n",
       "    <tr>\n",
       "      <th>106900</th>\n",
       "      <td>0.0</td>\n",
       "      <td>23.073166</td>\n",
       "      <td>3.290904</td>\n",
       "      <td>0.020689</td>\n",
       "      <td>17.713409</td>\n",
       "      <td>21.025002</td>\n",
       "      <td>0</td>\n",
       "    </tr>\n",
       "    <tr>\n",
       "      <th>114053</th>\n",
       "      <td>0.0</td>\n",
       "      <td>27.821541</td>\n",
       "      <td>3.920145</td>\n",
       "      <td>0.020689</td>\n",
       "      <td>21.832542</td>\n",
       "      <td>25.773376</td>\n",
       "      <td>0</td>\n",
       "    </tr>\n",
       "    <tr>\n",
       "      <th>168182</th>\n",
       "      <td>0.0</td>\n",
       "      <td>24.901468</td>\n",
       "      <td>3.920145</td>\n",
       "      <td>0.020689</td>\n",
       "      <td>18.912470</td>\n",
       "      <td>22.853303</td>\n",
       "      <td>0</td>\n",
       "    </tr>\n",
       "    <tr>\n",
       "      <th>192826</th>\n",
       "      <td>0.0</td>\n",
       "      <td>45.919579</td>\n",
       "      <td>1.038726</td>\n",
       "      <td>0.223977</td>\n",
       "      <td>22.483152</td>\n",
       "      <td>23.745856</td>\n",
       "      <td>0</td>\n",
       "    </tr>\n",
       "    <tr>\n",
       "      <th>257582</th>\n",
       "      <td>0.0</td>\n",
       "      <td>22.851784</td>\n",
       "      <td>7.075835</td>\n",
       "      <td>0.020689</td>\n",
       "      <td>13.707093</td>\n",
       "      <td>20.803617</td>\n",
       "      <td>0</td>\n",
       "    </tr>\n",
       "    <tr>\n",
       "      <th>375812</th>\n",
       "      <td>0.0</td>\n",
       "      <td>53.783756</td>\n",
       "      <td>0.550530</td>\n",
       "      <td>0.331436</td>\n",
       "      <td>20.089630</td>\n",
       "      <td>20.971596</td>\n",
       "      <td>0</td>\n",
       "    </tr>\n",
       "    <tr>\n",
       "      <th>375810</th>\n",
       "      <td>0.5</td>\n",
       "      <td>23.261929</td>\n",
       "      <td>6.309790</td>\n",
       "      <td>0.020701</td>\n",
       "      <td>14.882029</td>\n",
       "      <td>21.212520</td>\n",
       "      <td>2</td>\n",
       "    </tr>\n",
       "    <tr>\n",
       "      <th>233111</th>\n",
       "      <td>1.0</td>\n",
       "      <td>33.193787</td>\n",
       "      <td>6.796909</td>\n",
       "      <td>0.020689</td>\n",
       "      <td>24.328026</td>\n",
       "      <td>31.145624</td>\n",
       "      <td>3</td>\n",
       "    </tr>\n",
       "  </tbody>\n",
       "</table>\n",
       "</div>"
      ],
      "text/plain": [
       "        anomaly_fraq       loss  mcc_loss  binary_loss   amt_loss   loss_sum   \n",
       "seq_id                                                                         \n",
       "106900           0.0  23.073166  3.290904     0.020689  17.713409  21.025002  \\\n",
       "114053           0.0  27.821541  3.920145     0.020689  21.832542  25.773376   \n",
       "168182           0.0  24.901468  3.920145     0.020689  18.912470  22.853303   \n",
       "192826           0.0  45.919579  1.038726     0.223977  22.483152  23.745856   \n",
       "257582           0.0  22.851784  7.075835     0.020689  13.707093  20.803617   \n",
       "375812           0.0  53.783756  0.550530     0.331436  20.089630  20.971596   \n",
       "375810           0.5  23.261929  6.309790     0.020701  14.882029  21.212520   \n",
       "233111           1.0  33.193787  6.796909     0.020689  24.328026  31.145624   \n",
       "\n",
       "        class  \n",
       "seq_id         \n",
       "106900      0  \n",
       "114053      0  \n",
       "168182      0  \n",
       "192826      0  \n",
       "257582      0  \n",
       "375812      0  \n",
       "375810      2  \n",
       "233111      3  "
      ]
     },
     "execution_count": 162,
     "metadata": {},
     "output_type": "execute_result"
    }
   ],
   "source": [
    "losses_df[losses_df['loss_sum'] > 20]"
   ]
  },
  {
   "cell_type": "code",
   "execution_count": 168,
   "metadata": {},
   "outputs": [
    {
     "data": {
      "text/plain": [
       "array([11, 11, 11, 11, 11, 11, 11, 11, 11, 11, 11, 11, 11, 11, 11, 11, 11,\n",
       "       11, 11, 11, 11, 11, 11, 11, 11, 11, 11, 11, 11, 11, 11, 11, 11, 11,\n",
       "       11, 11, 11, 11, 11, 11])"
      ]
     },
     "execution_count": 168,
     "metadata": {},
     "output_type": "execute_result"
    }
   ],
   "source": [
    "seq_data.loc[375812]['mcc_code']"
   ]
  },
  {
   "cell_type": "code",
   "execution_count": 91,
   "metadata": {},
   "outputs": [
    {
     "data": {
      "text/plain": [
       "array([ 22.640741, 109.61357 , 104.53754 ,  46.06033 , 146.29277 ,\n",
       "       906.0762  , 615.7704  ,  42.93056 ,  45.062397,  53.22185 ,\n",
       "       106.4844  ,  49.638184,  41.42833 , 108.79991 ,  43.768253,\n",
       "        91.294975,  26.3708  ,  46.409595,  74.03558 , 299.65143 ,\n",
       "        52.786674,  55.04169 ,  47.810593,  42.436966,  92.17858 ,\n",
       "        92.656   ,  90.42266 ,  45.48023 ,  54.039265,  55.719685,\n",
       "       108.61172 , 108.3005  ,  52.05275 , 104.6088  , 165.3661  ,\n",
       "        94.977066, 443.53137 ,  93.68741 ,  26.717432,  94.710556])"
      ]
     },
     "execution_count": 91,
     "metadata": {},
     "output_type": "execute_result"
    }
   ],
   "source": [
    "np.exp(seq_data.iloc[228781]['transaction_amt'])"
   ]
  },
  {
   "cell_type": "code",
   "execution_count": 169,
   "metadata": {},
   "outputs": [],
   "source": [
    "with open('data/new_data/preprocessed/mcc2id.dict', 'rb') as f:\n",
    "    with open('data/new_data/preprocessed/user2id.dict', 'rb') as f_1:\n",
    "        mcc2id = dict(pickle.loads(f.read()))\n",
    "        user2id = dict(pickle.loads(f_1.read()))"
   ]
  },
  {
   "cell_type": "code",
   "execution_count": 170,
   "metadata": {},
   "outputs": [],
   "source": [
    "id2mcc = {}\n",
    "id2user = {}\n",
    "for k, v in mcc2id.items():\n",
    "    id2mcc[v] = k\n",
    "for k, v in user2id.items():\n",
    "    id2user[v] = k"
   ]
  },
  {
   "cell_type": "code",
   "execution_count": 171,
   "metadata": {},
   "outputs": [
    {
     "data": {
      "text/plain": [
       "6011"
      ]
     },
     "execution_count": 171,
     "metadata": {},
     "output_type": "execute_result"
    }
   ],
   "source": [
    "id2mcc[11]"
   ]
  },
  {
   "cell_type": "code",
   "execution_count": 92,
   "metadata": {},
   "outputs": [
    {
     "data": {
      "text/html": [
       "<div>\n",
       "<style scoped>\n",
       "    .dataframe tbody tr th:only-of-type {\n",
       "        vertical-align: middle;\n",
       "    }\n",
       "\n",
       "    .dataframe tbody tr th {\n",
       "        vertical-align: top;\n",
       "    }\n",
       "\n",
       "    .dataframe thead th {\n",
       "        text-align: right;\n",
       "    }\n",
       "</style>\n",
       "<table border=\"1\" class=\"dataframe\">\n",
       "  <thead>\n",
       "    <tr style=\"text-align: right;\">\n",
       "      <th></th>\n",
       "      <th>anomaly_fraq</th>\n",
       "      <th>loss</th>\n",
       "      <th>mcc_loss</th>\n",
       "      <th>binary_loss</th>\n",
       "      <th>amt_loss</th>\n",
       "      <th>class</th>\n",
       "    </tr>\n",
       "  </thead>\n",
       "  <tbody>\n",
       "    <tr>\n",
       "      <th>27003</th>\n",
       "      <td>0.000</td>\n",
       "      <td>2.301008</td>\n",
       "      <td>1.652921</td>\n",
       "      <td>1.368638e-06</td>\n",
       "      <td>0.647950</td>\n",
       "      <td>0</td>\n",
       "    </tr>\n",
       "    <tr>\n",
       "      <th>152523</th>\n",
       "      <td>0.000</td>\n",
       "      <td>1.026022</td>\n",
       "      <td>1.024961</td>\n",
       "      <td>8.510493e-08</td>\n",
       "      <td>0.001053</td>\n",
       "      <td>0</td>\n",
       "    </tr>\n",
       "    <tr>\n",
       "      <th>190996</th>\n",
       "      <td>0.000</td>\n",
       "      <td>1.750069</td>\n",
       "      <td>0.000349</td>\n",
       "      <td>1.661448e-02</td>\n",
       "      <td>0.088273</td>\n",
       "      <td>0</td>\n",
       "    </tr>\n",
       "    <tr>\n",
       "      <th>228781</th>\n",
       "      <td>0.000</td>\n",
       "      <td>8.238477</td>\n",
       "      <td>0.000121</td>\n",
       "      <td>8.231580e-02</td>\n",
       "      <td>0.006775</td>\n",
       "      <td>0</td>\n",
       "    </tr>\n",
       "    <tr>\n",
       "      <th>336094</th>\n",
       "      <td>0.000</td>\n",
       "      <td>1.584863</td>\n",
       "      <td>1.581835</td>\n",
       "      <td>1.119445e-06</td>\n",
       "      <td>0.002917</td>\n",
       "      <td>0</td>\n",
       "    </tr>\n",
       "    <tr>\n",
       "      <th>463958</th>\n",
       "      <td>0.075</td>\n",
       "      <td>1.010901</td>\n",
       "      <td>0.997991</td>\n",
       "      <td>1.396667e-06</td>\n",
       "      <td>0.012770</td>\n",
       "      <td>0</td>\n",
       "    </tr>\n",
       "    <tr>\n",
       "      <th>472099</th>\n",
       "      <td>0.100</td>\n",
       "      <td>1.370712</td>\n",
       "      <td>1.360427</td>\n",
       "      <td>1.221470e-06</td>\n",
       "      <td>0.010163</td>\n",
       "      <td>0</td>\n",
       "    </tr>\n",
       "  </tbody>\n",
       "</table>\n",
       "</div>"
      ],
      "text/plain": [
       "        anomaly_fraq      loss  mcc_loss   binary_loss  amt_loss  class\n",
       "27003          0.000  2.301008  1.652921  1.368638e-06  0.647950      0\n",
       "152523         0.000  1.026022  1.024961  8.510493e-08  0.001053      0\n",
       "190996         0.000  1.750069  0.000349  1.661448e-02  0.088273      0\n",
       "228781         0.000  8.238477  0.000121  8.231580e-02  0.006775      0\n",
       "336094         0.000  1.584863  1.581835  1.119445e-06  0.002917      0\n",
       "463958         0.075  1.010901  0.997991  1.396667e-06  0.012770      0\n",
       "472099         0.100  1.370712  1.360427  1.221470e-06  0.010163      0"
      ]
     },
     "execution_count": 92,
     "metadata": {},
     "output_type": "execute_result"
    }
   ],
   "source": [
    "losses_df[losses_df['loss'] > 1]"
   ]
  },
  {
   "cell_type": "code",
   "execution_count": 105,
   "metadata": {},
   "outputs": [
    {
     "data": {
      "text/plain": [
       "array([ 4, 27,  4, 17, 11, 11,  1,  1,  1,  4,  4,  4, 29, 27, 10,  1,  4,\n",
       "        3,  1, 27, 79,  4,  4, 45, 45,  1,  1, 83, 20, 10,  9,  9, 83,  4,\n",
       "        4, 10,  4,  4,  1, 10])"
      ]
     },
     "execution_count": 105,
     "metadata": {},
     "output_type": "execute_result"
    }
   ],
   "source": [
    "seq_data.iloc[152523]['mcc_code']"
   ]
  },
  {
   "cell_type": "code",
   "execution_count": 106,
   "metadata": {},
   "outputs": [
    {
     "data": {
      "text/plain": [
       "array([  105.706215,   453.6131  ,   637.0809  ,  2113.6567  ,\n",
       "        3734.1477  ,  5319.124   ,   577.4285  ,   452.62314 ,\n",
       "        1194.3778  ,    45.360874,   177.24718 ,    93.19953 ,\n",
       "        2469.5986  ,   827.13464 ,   207.84126 ,   937.9837  ,\n",
       "         106.322   , 14444.672   ,   669.1018  ,   465.40512 ,\n",
       "         848.62244 ,    92.386734,   172.4608  ,    18.137623,\n",
       "         397.60193 ,   514.62616 ,   627.13965 ,  2120.0928  ,\n",
       "        1160.5157  ,   179.77898 ,   105.38092 ,   789.8764  ,\n",
       "         741.5316  ,   512.9007  ,    89.932335,    74.01915 ,\n",
       "         108.026276,   108.19927 ,   787.0158  ,   214.07022 ])"
      ]
     },
     "execution_count": 106,
     "metadata": {},
     "output_type": "execute_result"
    }
   ],
   "source": [
    "np.exp(seq_data.iloc[152523]['transaction_amt'])"
   ]
  },
  {
   "cell_type": "code",
   "execution_count": 107,
   "metadata": {},
   "outputs": [
    {
     "data": {
      "text/plain": [
       "4121"
      ]
     },
     "execution_count": 107,
     "metadata": {},
     "output_type": "execute_result"
    }
   ],
   "source": [
    "id2mcc[45]"
   ]
  },
  {
   "cell_type": "code",
   "execution_count": 79,
   "metadata": {},
   "outputs": [],
   "source": [
    "orig_df = pd.read_parquet('data/new_data/transactions.parquet')"
   ]
  },
  {
   "cell_type": "code",
   "execution_count": 88,
   "metadata": {},
   "outputs": [
    {
     "data": {
      "text/html": [
       "<div>\n",
       "<style scoped>\n",
       "    .dataframe tbody tr th:only-of-type {\n",
       "        vertical-align: middle;\n",
       "    }\n",
       "\n",
       "    .dataframe tbody tr th {\n",
       "        vertical-align: top;\n",
       "    }\n",
       "\n",
       "    .dataframe thead th {\n",
       "        text-align: right;\n",
       "    }\n",
       "</style>\n",
       "<table border=\"1\" class=\"dataframe\">\n",
       "  <thead>\n",
       "    <tr style=\"text-align: right;\">\n",
       "      <th></th>\n",
       "      <th>user_id</th>\n",
       "      <th>mcc_code</th>\n",
       "      <th>currency_rk</th>\n",
       "      <th>transaction_amt</th>\n",
       "      <th>transaction_dttm</th>\n",
       "    </tr>\n",
       "  </thead>\n",
       "  <tbody>\n",
       "    <tr>\n",
       "      <th>9427255</th>\n",
       "      <td>782283ce1b594f618f8424fe25500c85</td>\n",
       "      <td>7995</td>\n",
       "      <td>48</td>\n",
       "      <td>-40.205284</td>\n",
       "      <td>2020-07-31 06:38:43</td>\n",
       "    </tr>\n",
       "    <tr>\n",
       "      <th>9427258</th>\n",
       "      <td>782283ce1b594f618f8424fe25500c85</td>\n",
       "      <td>7995</td>\n",
       "      <td>48</td>\n",
       "      <td>-36.907352</td>\n",
       "      <td>2020-08-01 06:45:14</td>\n",
       "    </tr>\n",
       "    <tr>\n",
       "      <th>9427259</th>\n",
       "      <td>782283ce1b594f618f8424fe25500c85</td>\n",
       "      <td>7995</td>\n",
       "      <td>48</td>\n",
       "      <td>-47.200695</td>\n",
       "      <td>2020-08-01 06:53:42</td>\n",
       "    </tr>\n",
       "    <tr>\n",
       "      <th>9427260</th>\n",
       "      <td>782283ce1b594f618f8424fe25500c85</td>\n",
       "      <td>7995</td>\n",
       "      <td>48</td>\n",
       "      <td>-36.507774</td>\n",
       "      <td>2020-08-01 07:27:25</td>\n",
       "    </tr>\n",
       "    <tr>\n",
       "      <th>9427262</th>\n",
       "      <td>782283ce1b594f618f8424fe25500c85</td>\n",
       "      <td>7995</td>\n",
       "      <td>48</td>\n",
       "      <td>-37.392696</td>\n",
       "      <td>2020-08-01 09:21:51</td>\n",
       "    </tr>\n",
       "    <tr>\n",
       "      <th>...</th>\n",
       "      <td>...</td>\n",
       "      <td>...</td>\n",
       "      <td>...</td>\n",
       "      <td>...</td>\n",
       "      <td>...</td>\n",
       "    </tr>\n",
       "    <tr>\n",
       "      <th>9428296</th>\n",
       "      <td>782283ce1b594f618f8424fe25500c85</td>\n",
       "      <td>7995</td>\n",
       "      <td>48</td>\n",
       "      <td>-90.043236</td>\n",
       "      <td>2021-01-24 03:22:03</td>\n",
       "    </tr>\n",
       "    <tr>\n",
       "      <th>9428297</th>\n",
       "      <td>782283ce1b594f618f8424fe25500c85</td>\n",
       "      <td>7995</td>\n",
       "      <td>48</td>\n",
       "      <td>-211.213870</td>\n",
       "      <td>2021-01-24 04:40:14</td>\n",
       "    </tr>\n",
       "    <tr>\n",
       "      <th>9428303</th>\n",
       "      <td>782283ce1b594f618f8424fe25500c85</td>\n",
       "      <td>7995</td>\n",
       "      <td>48</td>\n",
       "      <td>-22.310303</td>\n",
       "      <td>2021-01-26 14:16:54</td>\n",
       "    </tr>\n",
       "    <tr>\n",
       "      <th>9428304</th>\n",
       "      <td>782283ce1b594f618f8424fe25500c85</td>\n",
       "      <td>7995</td>\n",
       "      <td>48</td>\n",
       "      <td>-107.449690</td>\n",
       "      <td>2021-01-26 15:33:23</td>\n",
       "    </tr>\n",
       "    <tr>\n",
       "      <th>9428306</th>\n",
       "      <td>782283ce1b594f618f8424fe25500c85</td>\n",
       "      <td>7995</td>\n",
       "      <td>48</td>\n",
       "      <td>-108.306250</td>\n",
       "      <td>2021-01-27 15:28:03</td>\n",
       "    </tr>\n",
       "  </tbody>\n",
       "</table>\n",
       "<p>614 rows × 5 columns</p>\n",
       "</div>"
      ],
      "text/plain": [
       "                                  user_id  mcc_code  currency_rk   \n",
       "9427255  782283ce1b594f618f8424fe25500c85      7995           48  \\\n",
       "9427258  782283ce1b594f618f8424fe25500c85      7995           48   \n",
       "9427259  782283ce1b594f618f8424fe25500c85      7995           48   \n",
       "9427260  782283ce1b594f618f8424fe25500c85      7995           48   \n",
       "9427262  782283ce1b594f618f8424fe25500c85      7995           48   \n",
       "...                                   ...       ...          ...   \n",
       "9428296  782283ce1b594f618f8424fe25500c85      7995           48   \n",
       "9428297  782283ce1b594f618f8424fe25500c85      7995           48   \n",
       "9428303  782283ce1b594f618f8424fe25500c85      7995           48   \n",
       "9428304  782283ce1b594f618f8424fe25500c85      7995           48   \n",
       "9428306  782283ce1b594f618f8424fe25500c85      7995           48   \n",
       "\n",
       "         transaction_amt     transaction_dttm  \n",
       "9427255       -40.205284  2020-07-31 06:38:43  \n",
       "9427258       -36.907352  2020-08-01 06:45:14  \n",
       "9427259       -47.200695  2020-08-01 06:53:42  \n",
       "9427260       -36.507774  2020-08-01 07:27:25  \n",
       "9427262       -37.392696  2020-08-01 09:21:51  \n",
       "...                  ...                  ...  \n",
       "9428296       -90.043236  2021-01-24 03:22:03  \n",
       "9428297      -211.213870  2021-01-24 04:40:14  \n",
       "9428303       -22.310303  2021-01-26 14:16:54  \n",
       "9428304      -107.449690  2021-01-26 15:33:23  \n",
       "9428306      -108.306250  2021-01-27 15:28:03  \n",
       "\n",
       "[614 rows x 5 columns]"
      ]
     },
     "execution_count": 88,
     "metadata": {},
     "output_type": "execute_result"
    }
   ],
   "source": [
    "orig_df[(orig_df['user_id'] == id2user[10682]) & (orig_df['mcc_code'] == 7995)]"
   ]
  },
  {
   "cell_type": "code",
   "execution_count": null,
   "metadata": {},
   "outputs": [],
   "source": []
  },
  {
   "cell_type": "code",
   "execution_count": null,
   "metadata": {},
   "outputs": [],
   "source": []
  },
  {
   "cell_type": "code",
   "execution_count": null,
   "metadata": {},
   "outputs": [],
   "source": []
  },
  {
   "cell_type": "code",
   "execution_count": null,
   "metadata": {},
   "outputs": [],
   "source": []
  }
 ],
 "metadata": {
  "kernelspec": {
   "display_name": "base",
   "language": "python",
   "name": "python3"
  },
  "language_info": {
   "codemirror_mode": {
    "name": "ipython",
    "version": 3
   },
   "file_extension": ".py",
   "mimetype": "text/x-python",
   "name": "python",
   "nbconvert_exporter": "python",
   "pygments_lexer": "ipython3",
   "version": "3.9.16"
  },
  "orig_nbformat": 4
 },
 "nbformat": 4,
 "nbformat_minor": 2
}
