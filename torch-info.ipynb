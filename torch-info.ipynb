{
 "cells": [
  {
   "cell_type": "code",
   "execution_count": 33,
   "id": "0815c479",
   "metadata": {},
   "outputs": [],
   "source": [
    "from torchinfo import summary\n",
    "\n",
    "import numpy as np\n",
    "\n",
    "import torch\n",
    "\n",
    "from hydra import initialize, compose\n",
    "from omegaconf import OmegaConf\n",
    "\n",
    "from src.networks.tr2vec import Transaction2VecJoint"
   ]
  },
  {
   "cell_type": "code",
   "execution_count": 4,
   "id": "a65a704f",
   "metadata": {},
   "outputs": [],
   "source": [
    "with initialize(version_base=None, config_path='config/'):\n",
    "    cfg = compose(config_name='config.yaml')"
   ]
  },
  {
   "cell_type": "code",
   "execution_count": 34,
   "id": "480c5daa",
   "metadata": {},
   "outputs": [],
   "source": [
    "ctx_mcc_lat = torch.tensor(np.random.randint(0, 377, (16, 20)))\n",
    "ctx_lengths_lat =  torch.tensor(np.random.randint(1, 20, (16)))"
   ]
  },
  {
   "cell_type": "code",
   "execution_count": 35,
   "id": "d8d39f8e",
   "metadata": {},
   "outputs": [
    {
     "data": {
      "text/plain": [
       "tensor([[ 43, 286, 338, 215, 128, 200, 261, 281, 134, 208,  92, 335, 234, 282,\n",
       "         371, 283,  39, 185, 306, 214],\n",
       "        [347, 354, 295, 184, 127, 313,  28,   8,   2, 224, 185, 136, 331,   3,\n",
       "         298, 266, 234, 305, 164, 304],\n",
       "        [347, 117,  25,  88, 318, 134, 353, 101, 225, 195, 218, 219, 110, 156,\n",
       "         331,  58,  69,  61, 338, 240],\n",
       "        [376, 350,  69, 343, 189,  24, 138,  77, 166,  74, 254,  14, 358,  67,\n",
       "          96, 320, 328, 178,  47, 228],\n",
       "        [228, 277,  49, 217, 265,   2,  36, 201, 314, 136, 283, 340, 224, 202,\n",
       "         195, 245, 298, 159, 149, 127],\n",
       "        [231, 228, 348, 166, 312, 201,  20, 267, 252, 183, 177, 351, 268, 239,\n",
       "         296, 327, 245, 156, 100, 233],\n",
       "        [  7, 134, 168, 353, 249, 224, 126,  34, 216,   3,  61, 336,  95, 249,\n",
       "         173, 300,  14, 242, 298, 160],\n",
       "        [ 80,  22,  29, 124, 371, 221, 176,  69, 359,  81, 140, 241, 200, 187,\n",
       "         146, 146, 340, 209,   3,  52],\n",
       "        [170,  57, 208, 131,   6,  47, 249, 248,   4,  14, 271, 118,  78, 245,\n",
       "         348, 159, 140, 230, 162, 126],\n",
       "        [ 86, 329, 184, 367, 198,  48, 216,  71, 357,   9,  68, 371, 329, 357,\n",
       "         230,   5, 176, 123, 234, 250],\n",
       "        [230, 205,  28, 272, 140,  45, 359, 142, 370, 339, 276,  68, 161, 288,\n",
       "          81, 100, 192, 291, 339, 236],\n",
       "        [358, 228, 214, 294,  95,   6,  72, 186,  88,  50, 370, 154, 152, 326,\n",
       "         279, 308, 254, 123,  74, 317],\n",
       "        [251, 289, 286, 259, 282,   5,  50,   4,   3, 237, 229, 217, 244, 330,\n",
       "         120, 293, 341, 315,  29, 111],\n",
       "        [364,  86, 234, 133,  76, 175, 127, 124, 135, 283, 344,  64, 174,  31,\n",
       "          74, 183, 113,  81, 139, 313],\n",
       "        [202, 214, 362, 277, 265, 328, 280, 222, 278, 323, 324,  81,  21, 147,\n",
       "         274,  32,  88, 206,  22,  78],\n",
       "        [ 22, 259, 375, 259, 169, 298, 204, 310,  75, 210, 132, 342, 300, 178,\n",
       "         306,   4, 374, 335, 339, 349]])"
      ]
     },
     "execution_count": 35,
     "metadata": {},
     "output_type": "execute_result"
    }
   ],
   "source": [
    "ctx_mcc_lat"
   ]
  },
  {
   "cell_type": "code",
   "execution_count": 36,
   "id": "fe38fda6",
   "metadata": {},
   "outputs": [],
   "source": [
    "model = Transaction2VecJoint(cfg['embed_model'])"
   ]
  },
  {
   "cell_type": "code",
   "execution_count": 38,
   "id": "30f62e1b",
   "metadata": {},
   "outputs": [
    {
     "name": "stderr",
     "output_type": "stream",
     "text": [
      "/home/user/miniconda/lib/python3.8/site-packages/torchinfo/torchinfo.py:477: UserWarning: TypedStorage is deprecated. It will be removed in the future and UntypedStorage will be the only storage class. This should only matter to you if you are using storages directly.  To access UntypedStorage directly, use tensor.untyped_storage() instead of tensor.storage()\n",
      "  action_fn=lambda data: sys.getsizeof(data.storage()),\n",
      "/home/user/miniconda/lib/python3.8/site-packages/torch/storage.py:665: UserWarning: TypedStorage is deprecated. It will be removed in the future and UntypedStorage will be the only storage class. This should only matter to you if you are using storages directly.  To access UntypedStorage directly, use tensor.untyped_storage() instead of tensor.storage()\n",
      "  return super().__sizeof__() + self.nbytes()\n"
     ]
    },
    {
     "data": {
      "text/plain": [
       "==========================================================================================\n",
       "Layer (type:depth-idx)                   Output Shape              Param #\n",
       "==========================================================================================\n",
       "Transaction2VecJoint                     [16, 377]                 --\n",
       "├─Embedding: 1-1                         [16, 20, 128]             48,384\n",
       "├─Sequential: 1-2                        [16, 377]                 --\n",
       "│    └─Linear: 2-1                       [16, 128]                 16,512\n",
       "│    └─BatchNorm1d: 2-2                  [16, 128]                 256\n",
       "│    └─ReLU: 2-3                         [16, 128]                 --\n",
       "│    └─Linear: 2-4                       [16, 377]                 48,256\n",
       "==========================================================================================\n",
       "Total params: 113,408\n",
       "Trainable params: 113,408\n",
       "Non-trainable params: 0\n",
       "Total mult-adds (M): 1.81\n",
       "==========================================================================================\n",
       "Input size (MB): 0.00\n",
       "Forward/backward pass size (MB): 0.41\n",
       "Params size (MB): 0.45\n",
       "Estimated Total Size (MB): 0.87\n",
       "=========================================================================================="
      ]
     },
     "execution_count": 38,
     "metadata": {},
     "output_type": "execute_result"
    }
   ],
   "source": [
    "summary(model, input_data=[ctx_mcc_lat, ctx_lengths_lat])"
   ]
  },
  {
   "cell_type": "code",
   "execution_count": null,
   "id": "ced39079",
   "metadata": {},
   "outputs": [],
   "source": []
  },
  {
   "cell_type": "code",
   "execution_count": null,
   "id": "61fcfdcb",
   "metadata": {},
   "outputs": [],
   "source": []
  },
  {
   "cell_type": "code",
   "execution_count": null,
   "id": "20a7af4f",
   "metadata": {},
   "outputs": [],
   "source": []
  },
  {
   "cell_type": "code",
   "execution_count": null,
   "id": "8c9f66d1",
   "metadata": {},
   "outputs": [],
   "source": []
  },
  {
   "cell_type": "code",
   "execution_count": null,
   "id": "c29ee783",
   "metadata": {},
   "outputs": [],
   "source": []
  }
 ],
 "metadata": {
  "kernelspec": {
   "display_name": "Python 3 (ipykernel)",
   "language": "python",
   "name": "python3"
  },
  "language_info": {
   "codemirror_mode": {
    "name": "ipython",
    "version": 3
   },
   "file_extension": ".py",
   "mimetype": "text/x-python",
   "name": "python",
   "nbconvert_exporter": "python",
   "pygments_lexer": "ipython3",
   "version": "3.8.1"
  }
 },
 "nbformat": 4,
 "nbformat_minor": 5
}
